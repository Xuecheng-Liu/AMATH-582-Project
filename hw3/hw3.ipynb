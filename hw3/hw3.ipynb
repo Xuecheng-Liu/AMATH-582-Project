{
 "cells": [
  {
   "cell_type": "code",
   "execution_count": 222,
   "id": "2d6d3abe",
   "metadata": {
    "ExecuteTime": {
     "end_time": "2022-02-24T00:21:22.261672Z",
     "start_time": "2022-02-24T00:21:22.257571Z"
    }
   },
   "outputs": [],
   "source": [
    "import numpy as np\n",
    "import numpy.matlib\n",
    "import pandas as pd\n",
    "import matplotlib.pyplot as plt\n",
    "from sklearn.linear_model import LinearRegression\n",
    "from sklearn.metrics import mean_squared_error\n",
    "import sklearn as skl\n",
    "import sklearn.model_selection\n",
    "import sklearn.kernel_ridge"
   ]
  },
  {
   "cell_type": "markdown",
   "id": "90b2ddde",
   "metadata": {
    "heading_collapsed": true
   },
   "source": [
    "## preprocessing the data"
   ]
  },
  {
   "cell_type": "code",
   "execution_count": 223,
   "id": "420d7eff",
   "metadata": {
    "ExecuteTime": {
     "end_time": "2022-02-24T00:21:40.461756Z",
     "start_time": "2022-02-24T00:21:40.428901Z"
    },
    "hidden": true
   },
   "outputs": [],
   "source": [
    "# import data\n",
    "train_data = pd.read_csv(\"wine_training.csv\",header=None)\n",
    "test_data = pd.read_csv(\"wine_test.csv\",header = None)\n",
    "new_data = pd.read_csv(\"wine_new_batch.csv\",header = None)\n",
    "\n",
    "# normalize the training features\n",
    "X_train = np.array(train_data)[:,0:11]\n",
    "\n",
    "X_train_N = X_train.shape[0]# number of rows\n",
    "\n",
    "X_train_mean = np.mean(X_train,axis = 0)\n",
    "X_train_std = np.std(X_train,axis = 0)\n",
    "\n",
    "X_train_normal = (X_train - X_train_mean)/X_train_std\n",
    "#X_train_normal = (X_train - np.matlib.repmat(X_train_mean, X_train_N, 1))/np.matlib.repmat(X_train_std, X_train_N, 1)\n",
    "\n",
    "# normalize the training labels\n",
    "Y_train = np.array(train_data)[:,11]\n",
    "\n",
    "Y_train_mean = np.mean(Y_train,axis = 0)\n",
    "Y_train_std = np.std(Y_train,axis = 0)\n",
    "\n",
    "Y_train_normal = (Y_train - Y_train_mean)/Y_train_std\n",
    "\n",
    "# normalize the testing data using training mean and std\n",
    "\n",
    "X_test = np.array(test_data)[:,0:11]\n",
    "Y_test = np.array(test_data)[:,11]\n",
    "X_test_N = X_test.shape[0]\n",
    "\n",
    "\n",
    "X_test_normal = (X_test - X_train_mean)/X_train_std\n",
    "#X_test_normal = (X_test - np.matlib.repmat(X_train_mean, X_test_N, 1))/np.matlib.repmat(X_train_std, X_test_N, 1)\n",
    "Y_test_normal = (Y_test - Y_train_mean)/Y_train_std\n",
    "\n",
    "## normalize the new batch\n",
    "new_data = np.array(new_data)\n",
    "new_data_N = new_data.shape[0]\n",
    "\n",
    "new_data_normal = (new_data - np.matlib.repmat(X_train_mean,new_data_N,1))/np.matlib.repmat(X_train_std,new_data_N,1)"
   ]
  },
  {
   "cell_type": "markdown",
   "id": "0d30b928",
   "metadata": {
    "heading_collapsed": true
   },
   "source": [
    "## CV for hyperparameter tuning"
   ]
  },
  {
   "cell_type": "markdown",
   "id": "f7d326cd",
   "metadata": {
    "heading_collapsed": true,
    "hidden": true
   },
   "source": [
    "### CV for RBF kernel hyperparameter tuning"
   ]
  },
  {
   "cell_type": "markdown",
   "id": "97fbcd66",
   "metadata": {
    "hidden": true
   },
   "source": [
    "We first start with a wide range with a few steps"
   ]
  },
  {
   "cell_type": "code",
   "execution_count": 302,
   "id": "e115d35b",
   "metadata": {
    "ExecuteTime": {
     "end_time": "2022-02-24T02:57:43.400696Z",
     "start_time": "2022-02-24T02:57:18.391261Z"
    },
    "hidden": true
   },
   "outputs": [
    {
     "name": "stdout",
     "output_type": "stream",
     "text": [
      "log_2 sg: 1.666666666666667 log_2_lmbd:  -1.6666666666666665\n"
     ]
    },
    {
     "data": {
      "image/png": "[encoded data removed]",
      "text/plain": [
       "<Figure size 432x288 with 2 Axes>"
      ]
     },
     "metadata": {
      "needs_background": "light"
     },
     "output_type": "display_data"
    }
   ],
   "source": [
    "sig,lmbd = refine_search(K_sgm = 10,K_lmbd = 10,sgm_range = [-5,5],lmbd_range = [-5,5],kernel_type = \"rbf\")"
   ]
  },
  {
   "cell_type": "code",
   "execution_count": 315,
   "id": "83a1da6b",
   "metadata": {
    "ExecuteTime": {
     "end_time": "2022-02-24T03:06:48.462361Z",
     "start_time": "2022-02-24T03:06:23.678306Z"
    },
    "hidden": true
   },
   "outputs": [
    {
     "name": "stdout",
     "output_type": "stream",
     "text": [
      "log_2 sg: 1.666666666666666 log_2_lmbd:  -1.6666666666666667\n"
     ]
    },
    {
     "data": {
      "image/png": "[encoded data removed]",
      "text/plain": [
       "<Figure size 432x288 with 2 Axes>"
      ]
     },
     "metadata": {
      "needs_background": "light"
     },
     "output_type": "display_data"
    }
   ],
   "source": [
    "sig,lmbd = refine_search(K_sgm = 10,K_lmbd = 10,sgm_range = [-3,3],lmbd_range = [-3,3],kernel_type = \"rbf\")"
   ]
  },
  {
   "cell_type": "code",
   "execution_count": 333,
   "id": "0ab6c716",
   "metadata": {
    "ExecuteTime": {
     "end_time": "2022-02-24T03:21:36.647820Z",
     "start_time": "2022-02-24T03:21:14.856841Z"
    },
    "hidden": true
   },
   "outputs": [
    {
     "name": "stdout",
     "output_type": "stream",
     "text": [
      "log_2 sg: 1.5555555555555554 log_2_lmbd:  -1.5555555555555556\n"
     ]
    },
    {
     "data": {
      "image/png": "[encoded data removed]",
      "text/plain": [
       "<Figure size 432x288 with 2 Axes>"
      ]
     },
     "metadata": {
      "needs_background": "light"
     },
     "output_type": "display_data"
    }
   ],
   "source": [
    "sig,lmbd = refine_search(K_sgm = 10,K_lmbd = 10,sgm_range = [-2,2],lmbd_range = [-2,2],kernel_type = \"rbf\")"
   ]
  },
  {
   "cell_type": "markdown",
   "id": "fed14a4b",
   "metadata": {
    "heading_collapsed": true,
    "hidden": true
   },
   "source": [
    "### CV for Laplacian kernel hyperparameter"
   ]
  },
  {
   "cell_type": "code",
   "execution_count": 337,
   "id": "a4d5f733",
   "metadata": {
    "ExecuteTime": {
     "end_time": "2022-02-24T05:36:58.428895Z",
     "start_time": "2022-02-24T05:36:33.589187Z"
    },
    "hidden": true
   },
   "outputs": [
    {
     "name": "stdout",
     "output_type": "stream",
     "text": [
      "log_2 sg: 0.5555555555555554 log_2_lmbd:  -1.6666666666666665\n"
     ]
    },
    {
     "data": {
      "image/png": "[encoded data removed]",
      "text/plain": [
       "<Figure size 432x288 with 2 Axes>"
      ]
     },
     "metadata": {
      "needs_background": "light"
     },
     "output_type": "display_data"
    }
   ],
   "source": [
    "sig,lmbd = refine_search(K_sgm = 10,K_lmbd = 10,sgm_range = [-5,5],lmbd_range = [-5,5],kernel_type = \"laplacian\")"
   ]
  },
  {
   "cell_type": "code",
   "execution_count": 349,
   "id": "a2ffd43e",
   "metadata": {
    "ExecuteTime": {
     "end_time": "2022-02-24T07:12:25.242363Z",
     "start_time": "2022-02-24T07:12:03.403992Z"
    },
    "hidden": true
   },
   "outputs": [
    {
     "name": "stdout",
     "output_type": "stream",
     "text": [
      "log_2 sg: 0.6666666666666665 log_2_lmbd:  -2.0\n"
     ]
    },
    {
     "data": {
      "image/png": "[encoded data removed]",
      "text/plain": [
       "<Figure size 432x288 with 2 Axes>"
      ]
     },
     "metadata": {
      "needs_background": "light"
     },
     "output_type": "display_data"
    }
   ],
   "source": [
    "sig,lmbd = refine_search(K_sgm = 10,K_lmbd = 10,sgm_range = [-2,2],lmbd_range = [-2,2],kernel_type = \"laplacian\")"
   ]
  },
  {
   "cell_type": "code",
   "execution_count": 351,
   "id": "80f59c69",
   "metadata": {
    "ExecuteTime": {
     "end_time": "2022-02-24T07:20:14.920475Z",
     "start_time": "2022-02-24T07:19:51.367595Z"
    },
    "hidden": true
   },
   "outputs": [
    {
     "name": "stdout",
     "output_type": "stream",
     "text": [
      "log_2 sg: 0.5555555555555554 log_2_lmbd:  -2.0\n"
     ]
    },
    {
     "data": {
      "image/png": "[encoded data removed]",
      "text/plain": [
       "<Figure size 432x288 with 2 Axes>"
      ]
     },
     "metadata": {
      "needs_background": "light"
     },
     "output_type": "display_data"
    }
   ],
   "source": [
    "sig,lmbd = refine_search(K_sgm = 10,K_lmbd = 10,sgm_range = [-1,1],lmbd_range = [-2,2],kernel_type = \"laplacian\")"
   ]
  },
  {
   "cell_type": "markdown",
   "id": "97f62a3a",
   "metadata": {
    "heading_collapsed": true
   },
   "source": [
    "## Fit the model with the best hyper parameter"
   ]
  },
  {
   "cell_type": "markdown",
   "id": "a6a01540",
   "metadata": {
    "heading_collapsed": true,
    "hidden": true
   },
   "source": [
    "### fit linear regression"
   ]
  },
  {
   "cell_type": "code",
   "execution_count": 355,
   "id": "8e233659",
   "metadata": {
    "ExecuteTime": {
     "end_time": "2022-02-24T07:24:07.903882Z",
     "start_time": "2022-02-24T07:24:07.897444Z"
    },
    "hidden": true
   },
   "outputs": [
    {
     "name": "stdout",
     "output_type": "stream",
     "text": [
      "train mse:  0.6278484956554883\n",
      "test mse:  0.7471696905187208\n"
     ]
    }
   ],
   "source": [
    "linear_model = LinearRegression().fit(X_train_normal, Y_train_normal)\n",
    "\n",
    "Y_train_predict = linear_model.predict(X_train_normal)\n",
    "Y_test_predict = linear_model.predict(X_test_normal)\n",
    "\n",
    "print(\"train mse: \",mean_squared_error(Y_train_normal,Y_train_predict))\n",
    "print(\"test mse: \",mean_squared_error(Y_test_normal,Y_test_predict))"
   ]
  },
  {
   "cell_type": "markdown",
   "id": "85bfa55c",
   "metadata": {
    "heading_collapsed": true,
    "hidden": true
   },
   "source": [
    "### fit RBF ridge"
   ]
  },
  {
   "cell_type": "code",
   "execution_count": 354,
   "id": "c8220b0f",
   "metadata": {
    "ExecuteTime": {
     "end_time": "2022-02-24T07:24:05.293199Z",
     "start_time": "2022-02-24T07:24:05.223529Z"
    },
    "hidden": true
   },
   "outputs": [
    {
     "name": "stdout",
     "output_type": "stream",
     "text": [
      "train mse:  0.4309297474858547\n",
      "test mse:  0.6674829566575938\n"
     ]
    }
   ],
   "source": [
    "# optimal value found by CV\n",
    "lbd = 2**(-1.5555556)\n",
    "sig = 2**(1.5555554)\n",
    "KRR1 = skl.kernel_ridge.KernelRidge(kernel='rbf', alpha = lbd, gamma=1/(2*sig**2))\n",
    "\n",
    "KRR1.fit(X_train_normal, Y_train_normal)\n",
    "\n",
    "Y_train_predict = KRR1.predict(X_train_normal)\n",
    "Y_test_predict = KRR1.predict(X_test_normal)\n",
    "\n",
    "print(\"train mse: \",mean_squared_error(Y_train_normal,Y_train_predict))\n",
    "print(\"test mse: \",mean_squared_error(Y_test_normal,Y_test_predict))"
   ]
  },
  {
   "cell_type": "markdown",
   "id": "744b6dd2",
   "metadata": {
    "heading_collapsed": true,
    "hidden": true
   },
   "source": [
    "### fit Laplacian ridge"
   ]
  },
  {
   "cell_type": "code",
   "execution_count": 353,
   "id": "2f5981ac",
   "metadata": {
    "ExecuteTime": {
     "end_time": "2022-02-24T07:23:57.918259Z",
     "start_time": "2022-02-24T07:23:57.845864Z"
    },
    "hidden": true
   },
   "outputs": [
    {
     "name": "stdout",
     "output_type": "stream",
     "text": [
      "train mse:  0.06350755969047356\n",
      "test mse:  0.607592529296763\n"
     ]
    }
   ],
   "source": [
    "lbd = 2**(-2)\n",
    "sig = 2**(0.55555555555554)\n",
    "KRR2 = skl.kernel_ridge.KernelRidge(kernel='laplacian', alpha = lbd, gamma=1/(2*sig**2))\n",
    "\n",
    "KRR2.fit(X_train_normal, Y_train_normal)\n",
    "\n",
    "Y_train_predict = KRR2.predict(X_train_normal)\n",
    "Y_test_predict = KRR2.predict(X_test_normal)\n",
    "\n",
    "print(\"train mse: \",mean_squared_error(Y_train_normal,Y_train_predict))\n",
    "print(\"test mse: \",mean_squared_error(Y_test_normal,Y_test_predict))"
   ]
  },
  {
   "cell_type": "markdown",
   "id": "0f4faa8e",
   "metadata": {
    "heading_collapsed": true
   },
   "source": [
    "## predict the new batch"
   ]
  },
  {
   "cell_type": "markdown",
   "id": "d227edd1",
   "metadata": {
    "heading_collapsed": true,
    "hidden": true
   },
   "source": [
    "### predict with linear regression"
   ]
  },
  {
   "cell_type": "code",
   "execution_count": 361,
   "id": "93033ad7",
   "metadata": {
    "ExecuteTime": {
     "end_time": "2022-02-24T07:26:49.309386Z",
     "start_time": "2022-02-24T07:26:49.305001Z"
    },
    "hidden": true
   },
   "outputs": [
    {
     "data": {
      "text/plain": [
       "array([6., 5., 6., 6., 6.])"
      ]
     },
     "execution_count": 361,
     "metadata": {},
     "output_type": "execute_result"
    }
   ],
   "source": [
    "pre = linear_model.predict(new_data_normal)\n",
    "np.round(pre*Y_train_std+Y_train_mean)"
   ]
  },
  {
   "cell_type": "markdown",
   "id": "11e58a80",
   "metadata": {
    "heading_collapsed": true,
    "hidden": true
   },
   "source": [
    "### predict with RBF kernel ridge"
   ]
  },
  {
   "cell_type": "code",
   "execution_count": 362,
   "id": "094b0648",
   "metadata": {
    "ExecuteTime": {
     "end_time": "2022-02-24T07:26:54.173733Z",
     "start_time": "2022-02-24T07:26:54.168983Z"
    },
    "hidden": true
   },
   "outputs": [
    {
     "data": {
      "text/plain": [
       "array([6., 5., 5., 6., 6.])"
      ]
     },
     "execution_count": 362,
     "metadata": {},
     "output_type": "execute_result"
    }
   ],
   "source": [
    "pre = KRR1.predict(new_data_normal)\n",
    "np.round(pre*Y_train_std+Y_train_mean)"
   ]
  },
  {
   "cell_type": "markdown",
   "id": "329cc8ad",
   "metadata": {
    "heading_collapsed": true,
    "hidden": true
   },
   "source": [
    "### predict with laplacian kernel ridge"
   ]
  },
  {
   "cell_type": "code",
   "execution_count": 363,
   "id": "cd621838",
   "metadata": {
    "ExecuteTime": {
     "end_time": "2022-02-24T07:26:58.310636Z",
     "start_time": "2022-02-24T07:26:58.305688Z"
    },
    "hidden": true
   },
   "outputs": [
    {
     "data": {
      "text/plain": [
       "array([6., 5., 6., 6., 6.])"
      ]
     },
     "execution_count": 363,
     "metadata": {},
     "output_type": "execute_result"
    }
   ],
   "source": [
    "pre = KRR2.predict(new_data_normal)\n",
    "np.round(pre*Y_train_std+Y_train_mean)"
   ]
  },
  {
   "cell_type": "markdown",
   "id": "7e404c3c",
   "metadata": {},
   "source": [
    "## helper function"
   ]
  },
  {
   "cell_type": "code",
   "execution_count": 296,
   "id": "88f6bf41",
   "metadata": {
    "ExecuteTime": {
     "end_time": "2022-02-24T01:24:20.879249Z",
     "start_time": "2022-02-24T01:24:20.872217Z"
    }
   },
   "outputs": [],
   "source": [
    "# @ params: K_sgm, K_lmbd: step size of the range\n",
    "# @ params: sgm_range: vector of form [a,b]; same for lmbd_range\n",
    "\n",
    "def refine_search(K_sgm,K_lmbd,sgm_range,lmbd_range,kernel_type):\n",
    "    \n",
    "    sgm = np.linspace(sgm_range[0], sgm_range[1], K_sgm)\n",
    "    lmbd = np.linspace(lmbd_range[0], lmbd_range[1], K_lmbd)\n",
    "\n",
    "    scores = np.zeros((K_sgm, K_lmbd))\n",
    "    scores_std = np.zeros((K_sgm, K_lmbd))\n",
    "\n",
    "    KRR_CV = skl.kernel_ridge.KernelRidge(kernel= kernel_type)\n",
    "\n",
    "    for i in range(K_sgm):\n",
    "\n",
    "        KRR_CV.gamma = 1/(2*(2**sgm[i])**2)\n",
    "\n",
    "        for j in range(K_lmbd):\n",
    "\n",
    "            KRR_CV.alpha = (2**lmbd[j])\n",
    "            this_score = skl.model_selection.cross_val_score(KRR_CV, X_train_normal, Y_train_normal, scoring= 'neg_mean_squared_error', cv=10)\n",
    "\n",
    "            scores[i,j] = (np.mean(this_score))\n",
    "            scores_std[i,j] = (np.std(this_score))\n",
    "        \n",
    "\n",
    "    lv, sv = np.meshgrid(lmbd, sgm)\n",
    "\n",
    "    #fig, ax = plt.subplots(1,2, figsize=(20,10))\n",
    "\n",
    "    plt.contourf( lv, sv, np.log2(np.abs(scores)))\n",
    "    plt.xlabel('$\\log_2\\lambda$')\n",
    "    plt.ylabel('$\\log_2\\sigma$')\n",
    "    plt.title('Score')\n",
    "    plt.colorbar()\n",
    "\n",
    "\n",
    "    fig.tight_layout()\n",
    "    \n",
    "    ij_max = np.array( np.where( scores == scores.max() ), dtype=int).flatten()\n",
    "    print('log_2 sg:', sgm[ij_max[0]], 'log_2_lmbd: ', lmbd[ij_max[1]])\n",
    "    return sgm[ij_max[0]],lmbd[ij_max[1]]"
   ]
  }
 ],
 "metadata": {
  "kernelspec": {
   "display_name": "Python 3",
   "language": "python",
   "name": "python3"
  },
  "language_info": {
   "codemirror_mode": {
    "name": "ipython",
    "version": 3
   },
   "file_extension": ".py",
   "mimetype": "text/x-python",
   "name": "python",
   "nbconvert_exporter": "python",
   "pygments_lexer": "ipython3",
   "version": "3.8.8"
  },
  "latex_envs": {
   "LaTeX_envs_menu_present": true,
   "autoclose": false,
   "autocomplete": true,
   "bibliofile": "biblio.bib",
   "cite_by": "apalike",
   "current_citInitial": 1,
   "eqLabelWithNumbers": true,
   "eqNumInitial": 1,
   "hotkeys": {
    "equation": "Ctrl-E",
    "itemize": "Ctrl-I"
   },
   "labels_anchors": false,
   "latex_user_defs": false,
   "report_style_numbering": false,
   "user_envs_cfg": false
  },
  "toc": {
   "base_numbering": 1,
   "nav_menu": {},
   "number_sections": true,
   "sideBar": true,
   "skip_h1_title": false,
   "title_cell": "Table of Contents",
   "title_sidebar": "Contents",
   "toc_cell": false,
   "toc_position": {},
   "toc_section_display": true,
   "toc_window_display": false
  },
  "varInspector": {
   "cols": {
    "lenName": 16,
    "lenType": 16,
    "lenVar": 40
   },
   "kernels_config": {
    "python": {
     "delete_cmd_postfix": "",
     "delete_cmd_prefix": "del ",
     "library": "var_list.py",
     "varRefreshCmd": "print(var_dic_list())"
    },
    "r": {
     "delete_cmd_postfix": ") ",
     "delete_cmd_prefix": "rm(",
     "library": "var_list.r",
     "varRefreshCmd": "cat(var_dic_list()) "
    }
   },
   "types_to_exclude": [
    "module",
    "function",
    "builtin_function_or_method",
    "instance",
    "_Feature"
   ],
   "window_display": false
  }
 },
 "nbformat": 4,
 "nbformat_minor": 5
}
