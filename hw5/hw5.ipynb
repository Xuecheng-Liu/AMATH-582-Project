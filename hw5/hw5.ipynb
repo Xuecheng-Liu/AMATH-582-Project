{
 "cells": [
  {
   "cell_type": "markdown",
   "id": "54f688b5",
   "metadata": {
    "heading_collapsed": true
   },
   "source": [
    "## Start code"
   ]
  },
  {
   "cell_type": "code",
   "execution_count": 195,
   "id": "b3c77292",
   "metadata": {
    "ExecuteTime": {
     "end_time": "2022-03-11T00:59:57.007803Z",
     "start_time": "2022-03-11T00:59:57.004865Z"
    },
    "hidden": true
   },
   "outputs": [],
   "source": [
    "import numpy as np\n",
    "import matplotlib.pyplot as plt\n",
    "import cvxpy as cvx\n",
    "import skimage as ski\n",
    "\n",
    "import skimage.io\n",
    "import skimage.transform\n",
    "\n",
    "import scipy.fftpack as spfft "
   ]
  },
  {
   "cell_type": "code",
   "execution_count": 196,
   "id": "f45a6c50",
   "metadata": {
    "ExecuteTime": {
     "end_time": "2022-03-11T00:59:58.626424Z",
     "start_time": "2022-03-11T00:59:58.612312Z"
    },
    "hidden": true
   },
   "outputs": [
    {
     "name": "stdout",
     "output_type": "stream",
     "text": [
      "Original size:  (292, 228)\n",
      "Rescaled size:  (53, 41)\n"
     ]
    },
    {
     "name": "stderr",
     "output_type": "stream",
     "text": [
      "<ipython-input-196-99321ef27d1e>:7: FutureWarning: Non RGB image conversion is now deprecated. For RGBA images, please use rgb2gray(rgba2rgb(rgb)) instead. In version 0.19, a ValueError will be raised if input image last dimension length is not 3.\n",
      "  img_og = ski.color.rgb2gray(img_og)\n"
     ]
    }
   ],
   "source": [
    "img_path = 'SonOfMan.png'\n",
    "#img_path  = \"beauty.jpeg\"\n",
    "# read image\n",
    "img_og = ski.io.imread(img_path)\n",
    "\n",
    "# convert to grayscale and visualize \n",
    "img_og = ski.color.rgb2gray(img_og)\n",
    "\n",
    "#fig, ax = plt.subplots(1, 2, figsize=(20,10))\n",
    "#ax[0].imshow(img_og, cmap = 'gray')\n",
    "#ax[0].set_title(\"Original image\")\n",
    "\n",
    "print(\"Original size: \", img_og.shape)\n",
    "\n",
    "# resize image \n",
    "img = ski.transform.rescale( img_og, 0.18, anti_aliasing=False)\n",
    "print(\"Rescaled size: \", img.shape)\n",
    "\n",
    "#ax[1].imshow(img, cmap='gray')\n",
    "#ax[1].set_title(\"Rescaled image\")"
   ]
  },
  {
   "cell_type": "markdown",
   "id": "6bb5fcb9",
   "metadata": {
    "heading_collapsed": true
   },
   "source": [
    "## Helper functions"
   ]
  },
  {
   "cell_type": "code",
   "execution_count": 249,
   "id": "87f81067",
   "metadata": {
    "ExecuteTime": {
     "end_time": "2022-03-11T05:14:38.376623Z",
     "start_time": "2022-03-11T05:14:38.368487Z"
    },
    "hidden": true
   },
   "outputs": [],
   "source": [
    "# constrauct forward and inverse DCT matrices \n",
    "\n",
    "# construct DCT matrix\n",
    "def construct_DCT_Mat( Nx, Ny ):\n",
    "\n",
    "  # input : Nx number of columns of image \n",
    "  #         Ny number of rows of image \n",
    "\n",
    "  # output: D DCT matrix mapping image.flatten() to \n",
    "  #         DCT(image).flatten()\n",
    "\n",
    "  Dx = spfft.dct(np.eye(Nx), axis =0, norm='ortho')\n",
    "\n",
    "  Dy = spfft.dct(np.eye(Ny), axis = 0, norm='ortho')\n",
    "\n",
    "  D = np.kron(Dy, Dx)\n",
    "\n",
    "  return D\n",
    "\n",
    "# construct inverse DCT matrix\n",
    "def construct_iDCT_Mat( Nx, Ny ):\n",
    "\n",
    "  # input : Nx number of columns of image \n",
    "  #         Ny number of rows of image \n",
    "\n",
    "  # output: iD iDCT matrix mapping DCT(image).flatten() to \n",
    "  #         image.flatten()\n",
    "\n",
    "  Dx = spfft.idct(np.eye(Nx), axis =0, norm='ortho')\n",
    "\n",
    "  Dy = spfft.idct(np.eye(Ny), axis = 0, norm = 'ortho')\n",
    "\n",
    "  D = np.kron(Dy, Dx)\n",
    "\n",
    "  return D\n",
    "\n",
    "\n",
    "# function that set the coef below threshold to 0\n",
    "def thresholding(dctf,percent):\n",
    "    thre = np.percentile(dctf,100 - percent)\n",
    "    result = np.zeros(dctf.shape)\n",
    "    for i in range(len(dctf)):\n",
    "        if dctf[i] >= thre:\n",
    "            result[i] = dctf[i]\n",
    "    return result\n",
    "\n",
    "# function that recovers the image using L1 norm\n",
    "def one_round(r):\n",
    "    N = Nx * Ny\n",
    "    M = int(np.floor(N*r))\n",
    "    I = np.identity(N)\n",
    "    I = np.random.permutation(I)\n",
    "    B = I[0:M,:]\n",
    "    y = np.dot(B,vimg).reshape(-1,1)\n",
    "    A = np.dot(B,D_inv)\n",
    "    \n",
    "    vb = cvx.Variable((N,1)) #vb for vector beta\n",
    "    objective_dct = cvx.Minimize( cvx.norm(vb, 1) )\n",
    "    constraints_dct = [A@vb == y] # equality constraints at the observation points\n",
    "\n",
    "    problem_dct = cvx.Problem(objective_dct, constraints_dct)\n",
    "    result = problem_dct.solve(verbose=True,solver = 'CVXOPT',max_iter = 1000,reltol = 1e-2,featol = 1e-2)\n",
    "    plt.imshow(np.dot(D_inv, vb.value).reshape(Nx, Ny), cmap='gray');\n",
    "    print(\"r = \",r)"
   ]
  },
  {
   "cell_type": "markdown",
   "id": "7dfe3ae4",
   "metadata": {
    "heading_collapsed": true
   },
   "source": [
    "## Image Compression"
   ]
  },
  {
   "cell_type": "markdown",
   "id": "bda12f15",
   "metadata": {
    "hidden": true
   },
   "source": [
    "### (a)"
   ]
  },
  {
   "cell_type": "code",
   "execution_count": 197,
   "id": "c7b25975",
   "metadata": {
    "ExecuteTime": {
     "end_time": "2022-03-11T01:00:03.669634Z",
     "start_time": "2022-03-11T01:00:03.348880Z"
    },
    "hidden": true
   },
   "outputs": [],
   "source": [
    "Nx = img.shape[0] # number of columns\n",
    "Ny = img.shape[1] # number of rows\n",
    "\n",
    "D = construct_DCT_Mat(Nx,Ny)\n",
    "D_inv = construct_iDCT_Mat(Nx,Ny)"
   ]
  },
  {
   "cell_type": "markdown",
   "id": "8597ff91",
   "metadata": {
    "hidden": true
   },
   "source": [
    "### (b)"
   ]
  },
  {
   "cell_type": "code",
   "execution_count": 199,
   "id": "48f2f858",
   "metadata": {
    "ExecuteTime": {
     "end_time": "2022-03-11T01:00:10.330369Z",
     "start_time": "2022-03-11T01:00:10.229797Z"
    },
    "hidden": true
   },
   "outputs": [
    {
     "name": "stdout",
     "output_type": "stream",
     "text": [
      "Number of zero coefficients:  1073\n"
     ]
    },
    {
     "data": {
      "image/png": "[encoded data removed]",
      "text/plain": [
       "<Figure size 432x288 with 1 Axes>"
      ]
     },
     "metadata": {
      "needs_background": "light"
     },
     "output_type": "display_data"
    }
   ],
   "source": [
    "vimg = img.flatten().reshape(-1,1) # vec(F)\n",
    "\n",
    "dctf = np.dot(D, vimg)\n",
    "plt.plot(np.arange(len(dctf)), np.abs(dctf))\n",
    "print(\"Number of zero coefficients: \",np.sum(dctf <= 10**-6))"
   ]
  },
  {
   "cell_type": "markdown",
   "id": "01bf09d4",
   "metadata": {
    "hidden": true
   },
   "source": [
    "<b>As we could see from the plot and calculation above, nearly half of the coefficients are zero and there is only one large coefficient (the first one).</b>"
   ]
  },
  {
   "cell_type": "markdown",
   "id": "ce5ba01c",
   "metadata": {
    "hidden": true
   },
   "source": [
    "### (c) "
   ]
  },
  {
   "cell_type": "code",
   "execution_count": 200,
   "id": "48f7563c",
   "metadata": {
    "ExecuteTime": {
     "end_time": "2022-03-11T01:00:13.025934Z",
     "start_time": "2022-03-11T01:00:12.925623Z"
    },
    "hidden": true
   },
   "outputs": [
    {
     "data": {
      "image/png": "[encoded data removed]",
      "text/plain": [
       "<Figure size 432x288 with 1 Axes>"
      ]
     },
     "metadata": {
      "needs_background": "light"
     },
     "output_type": "display_data"
    }
   ],
   "source": [
    "plt.imshow(np.dot(D_inv, thresholding(dctf,5)).reshape(Nx, Ny), cmap='gray');"
   ]
  },
  {
   "cell_type": "code",
   "execution_count": 201,
   "id": "9f0d62d1",
   "metadata": {
    "ExecuteTime": {
     "end_time": "2022-03-11T01:00:14.874184Z",
     "start_time": "2022-03-11T01:00:14.774086Z"
    },
    "hidden": true
   },
   "outputs": [
    {
     "data": {
      "image/png": "[encoded data removed]",
      "text/plain": [
       "<Figure size 432x288 with 1 Axes>"
      ]
     },
     "metadata": {
      "needs_background": "light"
     },
     "output_type": "display_data"
    }
   ],
   "source": [
    "plt.imshow(np.dot(D_inv, thresholding(dctf,10)).reshape(Nx, Ny), cmap='gray');"
   ]
  },
  {
   "cell_type": "code",
   "execution_count": 259,
   "id": "47fa89c3",
   "metadata": {
    "ExecuteTime": {
     "end_time": "2022-03-11T05:27:17.238641Z",
     "start_time": "2022-03-11T05:27:17.137045Z"
    },
    "hidden": true
   },
   "outputs": [
    {
     "data": {
      "image/png": "[encoded data removed]",
      "text/plain": [
       "<Figure size 432x288 with 1 Axes>"
      ]
     },
     "metadata": {
      "needs_background": "light"
     },
     "output_type": "display_data"
    }
   ],
   "source": [
    "plt.imshow(np.dot(D_inv, thresholding(dctf,20)).reshape(Nx, Ny), cmap='gray');"
   ]
  },
  {
   "cell_type": "code",
   "execution_count": 260,
   "id": "24259eb7",
   "metadata": {
    "ExecuteTime": {
     "end_time": "2022-03-11T05:27:17.384126Z",
     "start_time": "2022-03-11T05:27:17.288210Z"
    },
    "hidden": true,
    "scrolled": true
   },
   "outputs": [
    {
     "data": {
      "image/png": "[encoded data removed]",
      "text/plain": [
       "<Figure size 432x288 with 1 Axes>"
      ]
     },
     "metadata": {
      "needs_background": "light"
     },
     "output_type": "display_data"
    }
   ],
   "source": [
    "plt.imshow(np.dot(D_inv, thresholding(dctf,40)).reshape(Nx, Ny), cmap='gray');"
   ]
  },
  {
   "cell_type": "markdown",
   "id": "b60f3b48",
   "metadata": {
    "heading_collapsed": true
   },
   "source": [
    "## Compressed Image Recovery"
   ]
  },
  {
   "cell_type": "markdown",
   "id": "7f87f8e0",
   "metadata": {
    "heading_collapsed": true,
    "hidden": true
   },
   "source": [
    "### r = 0.2"
   ]
  },
  {
   "cell_type": "code",
   "execution_count": 248,
   "id": "2e205798",
   "metadata": {
    "ExecuteTime": {
     "end_time": "2022-03-11T05:11:47.575235Z",
     "start_time": "2022-03-11T05:11:02.594268Z"
    },
    "hidden": true
   },
   "outputs": [
    {
     "name": "stdout",
     "output_type": "stream",
     "text": [
      "===============================================================================\n",
      "                                     CVXPY                                     \n",
      "                                    v1.1.18                                    \n",
      "===============================================================================\n",
      "(CVXPY) Mar 10 09:11:02 PM: Your problem has 2173 variables, 1 constraints, and 0 parameters.\n",
      "(CVXPY) Mar 10 09:11:02 PM: It is compliant with the following grammars: DCP, DQCP\n",
      "(CVXPY) Mar 10 09:11:02 PM: (If you need to solve this problem multiple times, but with different data, consider using parameters.)\n",
      "(CVXPY) Mar 10 09:11:02 PM: CVXPY will first compile your problem; then, it will invoke a numerical solver to obtain a solution.\n",
      "-------------------------------------------------------------------------------\n",
      "                                  Compilation                                  \n",
      "-------------------------------------------------------------------------------\n",
      "(CVXPY) Mar 10 09:11:02 PM: Compiling problem (target solver=CVXOPT).\n",
      "(CVXPY) Mar 10 09:11:02 PM: Reduction chain: Dcp2Cone -> CvxAttr2Constr -> ConeMatrixStuffing -> CVXOPT\n",
      "(CVXPY) Mar 10 09:11:02 PM: Applying reduction Dcp2Cone\n",
      "(CVXPY) Mar 10 09:11:02 PM: Applying reduction CvxAttr2Constr\n",
      "(CVXPY) Mar 10 09:11:02 PM: Applying reduction ConeMatrixStuffing\n",
      "(CVXPY) Mar 10 09:11:02 PM: Applying reduction CVXOPT\n",
      "(CVXPY) Mar 10 09:11:03 PM: Finished problem compilation (took 4.629e-01 seconds).\n",
      "-------------------------------------------------------------------------------\n",
      "                                Numerical solver                               \n",
      "-------------------------------------------------------------------------------\n",
      "(CVXPY) Mar 10 09:11:03 PM: Invoking solver CVXOPT  to obtain a solution.\n",
      "     pcost       dcost       gap    pres   dres   k/t\n",
      " 0: -2.6823e-13 -5.1730e-13  1e+04  4e+02  1e-09  1e+00\n",
      " 1:  3.1607e+01  3.1735e+01  6e+03  2e+02  6e-10  6e-01\n",
      " 2:  4.7518e+01  4.7839e+01  2e+03  6e+01  2e-10  5e-01\n",
      " 3:  7.6572e+01  7.6710e+01  9e+02  3e+01  9e-11  2e-01\n",
      " 4:  1.0423e+02  1.0430e+02  4e+02  1e+01  5e-11  1e-01\n",
      " 5:  1.2976e+02  1.2979e+02  2e+02  5e+00  2e-11  4e-02\n",
      " 6:  1.3752e+02  1.3753e+02  8e+01  2e+00  8e-12  2e-02\n",
      " 7:  1.4255e+02  1.4255e+02  3e+01  1e+00  3e-12  7e-03\n",
      " 8:  1.4447e+02  1.4447e+02  1e+01  4e-01  1e-12  3e-03\n",
      " 9:  1.4522e+02  1.4522e+02  7e+00  2e-01  7e-13  2e-03\n",
      "10:  1.4566e+02  1.4566e+02  2e+00  7e-02  3e-13  5e-04\n",
      "11:  1.4581e+02  1.4581e+02  9e-01  3e-02  1e-13  2e-04\n",
      "12:  1.4586e+02  1.4587e+02  4e-01  1e-02  6e-14  8e-05\n",
      "13:  1.4589e+02  1.4589e+02  1e-01  4e-03  3e-14  3e-05\n",
      "14:  1.4590e+02  1.4590e+02  5e-02  1e-03  3e-14  1e-05\n",
      "15:  1.4590e+02  1.4590e+02  2e-02  5e-04  3e-14  4e-06\n",
      "16:  1.4590e+02  1.4590e+02  5e-03  2e-04  3e-14  1e-06\n",
      "17:  1.4590e+02  1.4590e+02  1e-03  3e-05  3e-14  2e-07\n",
      "18:  1.4590e+02  1.4590e+02  6e-04  2e-05  2e-12  1e-07\n",
      "19:  1.4590e+02  1.4590e+02  5e-04  1e-05  2e-11  1e-07\n",
      "20:  1.4590e+02  1.4590e+02  4e-05  1e-06  7e-11  9e-09\n",
      "21:  1.4590e+02  1.4590e+02  4e-07  1e-08  1e-11  9e-11\n",
      "Optimal solution found.\n",
      "-------------------------------------------------------------------------------\n",
      "                                    Summary                                    \n",
      "-------------------------------------------------------------------------------\n",
      "(CVXPY) Mar 10 09:11:47 PM: Problem status: optimal\n",
      "(CVXPY) Mar 10 09:11:47 PM: Optimal value: 1.459e+02\n",
      "(CVXPY) Mar 10 09:11:47 PM: Compilation took 4.629e-01 seconds\n",
      "(CVXPY) Mar 10 09:11:47 PM: Solver (including time spent in interface) took 4.433e+01 seconds\n",
      "r =  0.2\n"
     ]
    },
    {
     "data": {
      "image/png": "[encoded data removed]",
      "text/plain": [
       "<Figure size 432x288 with 1 Axes>"
      ]
     },
     "metadata": {
      "needs_background": "light"
     },
     "output_type": "display_data"
    }
   ],
   "source": [
    "# first round\n",
    "one_round(0.2)"
   ]
  },
  {
   "cell_type": "code",
   "execution_count": 250,
   "id": "68291231",
   "metadata": {
    "ExecuteTime": {
     "end_time": "2022-03-11T05:17:15.255030Z",
     "start_time": "2022-03-11T05:16:36.961661Z"
    },
    "hidden": true
   },
   "outputs": [
    {
     "name": "stdout",
     "output_type": "stream",
     "text": [
      "===============================================================================\n",
      "                                     CVXPY                                     \n",
      "                                    v1.1.18                                    \n",
      "===============================================================================\n",
      "(CVXPY) Mar 10 09:16:37 PM: Your problem has 2173 variables, 1 constraints, and 0 parameters.\n",
      "(CVXPY) Mar 10 09:16:37 PM: It is compliant with the following grammars: DCP, DQCP\n",
      "(CVXPY) Mar 10 09:16:37 PM: (If you need to solve this problem multiple times, but with different data, consider using parameters.)\n",
      "(CVXPY) Mar 10 09:16:37 PM: CVXPY will first compile your problem; then, it will invoke a numerical solver to obtain a solution.\n",
      "-------------------------------------------------------------------------------\n",
      "                                  Compilation                                  \n",
      "-------------------------------------------------------------------------------\n",
      "(CVXPY) Mar 10 09:16:37 PM: Compiling problem (target solver=CVXOPT).\n",
      "(CVXPY) Mar 10 09:16:37 PM: Reduction chain: Dcp2Cone -> CvxAttr2Constr -> ConeMatrixStuffing -> CVXOPT\n",
      "(CVXPY) Mar 10 09:16:37 PM: Applying reduction Dcp2Cone\n",
      "(CVXPY) Mar 10 09:16:37 PM: Applying reduction CvxAttr2Constr\n",
      "(CVXPY) Mar 10 09:16:37 PM: Applying reduction ConeMatrixStuffing\n",
      "(CVXPY) Mar 10 09:16:37 PM: Applying reduction CVXOPT\n",
      "(CVXPY) Mar 10 09:16:37 PM: Finished problem compilation (took 4.355e-01 seconds).\n",
      "-------------------------------------------------------------------------------\n",
      "                                Numerical solver                               \n",
      "-------------------------------------------------------------------------------\n",
      "(CVXPY) Mar 10 09:16:37 PM: Invoking solver CVXOPT  to obtain a solution.\n",
      "     pcost       dcost       gap    pres   dres   k/t\n",
      " 0: -4.0229e-13 -2.2990e-13  1e+04  4e+02  1e-09  1e+00\n",
      " 1:  3.1833e+01  3.1968e+01  6e+03  2e+02  6e-10  6e-01\n",
      " 2:  4.4900e+01  4.5239e+01  2e+03  6e+01  2e-10  5e-01\n",
      " 3:  7.3633e+01  7.3763e+01  8e+02  2e+01  9e-11  2e-01\n",
      " 4:  1.0310e+02  1.0317e+02  4e+02  1e+01  4e-11  9e-02\n",
      " 5:  1.2693e+02  1.2696e+02  1e+02  4e+00  2e-11  3e-02\n",
      " 6:  1.3584e+02  1.3585e+02  6e+01  2e+00  7e-12  1e-02\n",
      " 7:  1.3981e+02  1.3981e+02  3e+01  8e-01  3e-12  6e-03\n",
      " 8:  1.4134e+02  1.4134e+02  1e+01  4e-01  1e-12  3e-03\n",
      " 9:  1.4207e+02  1.4207e+02  5e+00  1e-01  5e-13  1e-03\n",
      "10:  1.4235e+02  1.4235e+02  2e+00  6e-02  2e-13  4e-04\n",
      "11:  1.4246e+02  1.4246e+02  9e-01  3e-02  1e-13  2e-04\n",
      "12:  1.4252e+02  1.4252e+02  3e-01  1e-02  5e-14  8e-05\n",
      "13:  1.4254e+02  1.4254e+02  1e-01  3e-03  3e-14  2e-05\n",
      "14:  1.4255e+02  1.4255e+02  3e-02  8e-04  3e-14  6e-06\n",
      "15:  1.4255e+02  1.4255e+02  8e-03  2e-04  3e-14  2e-06\n",
      "16:  1.4255e+02  1.4255e+02  1e-03  3e-05  5e-14  2e-07\n",
      "17:  1.4255e+02  1.4255e+02  6e-05  2e-06  3e-13  1e-08\n",
      "18:  1.4255e+02  1.4255e+02  6e-07  2e-08  2e-10  1e-10\n",
      "Optimal solution found.\n",
      "-------------------------------------------------------------------------------\n",
      "                                    Summary                                    \n",
      "-------------------------------------------------------------------------------\n",
      "(CVXPY) Mar 10 09:17:15 PM: Problem status: optimal\n",
      "(CVXPY) Mar 10 09:17:15 PM: Optimal value: 1.426e+02\n",
      "(CVXPY) Mar 10 09:17:15 PM: Compilation took 4.355e-01 seconds\n",
      "(CVXPY) Mar 10 09:17:15 PM: Solver (including time spent in interface) took 3.767e+01 seconds\n",
      "r =  0.2\n"
     ]
    },
    {
     "data": {
      "image/png": "[encoded data removed]",
      "text/plain": [
       "<Figure size 432x288 with 1 Axes>"
      ]
     },
     "metadata": {
      "needs_background": "light"
     },
     "output_type": "display_data"
    }
   ],
   "source": [
    "# second round\n",
    "one_round(0.2)"
   ]
  },
  {
   "cell_type": "code",
   "execution_count": 251,
   "id": "cbef9e83",
   "metadata": {
    "ExecuteTime": {
     "end_time": "2022-03-11T05:18:02.128303Z",
     "start_time": "2022-03-11T05:17:20.856383Z"
    },
    "hidden": true
   },
   "outputs": [
    {
     "name": "stdout",
     "output_type": "stream",
     "text": [
      "===============================================================================\n",
      "                                     CVXPY                                     \n",
      "                                    v1.1.18                                    \n",
      "===============================================================================\n",
      "(CVXPY) Mar 10 09:17:20 PM: Your problem has 2173 variables, 1 constraints, and 0 parameters.\n",
      "(CVXPY) Mar 10 09:17:20 PM: It is compliant with the following grammars: DCP, DQCP\n",
      "(CVXPY) Mar 10 09:17:20 PM: (If you need to solve this problem multiple times, but with different data, consider using parameters.)\n",
      "(CVXPY) Mar 10 09:17:20 PM: CVXPY will first compile your problem; then, it will invoke a numerical solver to obtain a solution.\n",
      "-------------------------------------------------------------------------------\n",
      "                                  Compilation                                  \n",
      "-------------------------------------------------------------------------------\n",
      "(CVXPY) Mar 10 09:17:20 PM: Compiling problem (target solver=CVXOPT).\n",
      "(CVXPY) Mar 10 09:17:20 PM: Reduction chain: Dcp2Cone -> CvxAttr2Constr -> ConeMatrixStuffing -> CVXOPT\n",
      "(CVXPY) Mar 10 09:17:20 PM: Applying reduction Dcp2Cone\n",
      "(CVXPY) Mar 10 09:17:20 PM: Applying reduction CvxAttr2Constr\n",
      "(CVXPY) Mar 10 09:17:20 PM: Applying reduction ConeMatrixStuffing\n",
      "(CVXPY) Mar 10 09:17:21 PM: Applying reduction CVXOPT\n",
      "(CVXPY) Mar 10 09:17:21 PM: Finished problem compilation (took 4.483e-01 seconds).\n",
      "-------------------------------------------------------------------------------\n",
      "                                Numerical solver                               \n",
      "-------------------------------------------------------------------------------\n",
      "(CVXPY) Mar 10 09:17:21 PM: Invoking solver CVXOPT  to obtain a solution.\n",
      "     pcost       dcost       gap    pres   dres   k/t\n",
      " 0:  6.5114e-13  5.3657e-13  1e+04  4e+02  1e-09  1e+00\n",
      " 1:  3.2076e+01  3.2213e+01  6e+03  2e+02  6e-10  6e-01\n",
      " 2:  4.4296e+01  4.4644e+01  2e+03  7e+01  2e-10  5e-01\n",
      " 3:  7.0168e+01  7.0312e+01  9e+02  3e+01  8e-11  2e-01\n",
      " 4:  9.7956e+01  9.8025e+01  4e+02  1e+01  4e-11  1e-01\n",
      " 5:  1.2047e+02  1.2050e+02  2e+02  5e+00  2e-11  4e-02\n",
      " 6:  1.3064e+02  1.3065e+02  8e+01  2e+00  7e-12  2e-02\n",
      " 7:  1.3445e+02  1.3445e+02  4e+01  1e+00  3e-12  9e-03\n",
      " 8:  1.3651e+02  1.3651e+02  2e+01  5e-01  2e-12  4e-03\n",
      " 9:  1.3758e+02  1.3758e+02  6e+00  2e-01  6e-13  1e-03\n",
      "10:  1.3798e+02  1.3798e+02  3e+00  8e-02  2e-13  6e-04\n",
      "11:  1.3813e+02  1.3813e+02  1e+00  4e-02  1e-13  3e-04\n",
      "12:  1.3820e+02  1.3820e+02  5e-01  1e-02  4e-14  1e-04\n",
      "13:  1.3824e+02  1.3824e+02  2e-01  5e-03  3e-14  4e-05\n",
      "14:  1.3825e+02  1.3825e+02  5e-02  2e-03  3e-14  1e-05\n",
      "15:  1.3825e+02  1.3825e+02  2e-02  7e-04  2e-14  6e-06\n",
      "16:  1.3825e+02  1.3825e+02  4e-03  1e-04  3e-14  9e-07\n",
      "17:  1.3825e+02  1.3825e+02  8e-04  2e-05  3e-14  2e-07\n",
      "18:  1.3825e+02  1.3825e+02  3e-04  8e-06  5e-12  6e-08\n",
      "19:  1.3825e+02  1.3825e+02  3e-06  8e-08  1e-12  6e-10\n",
      "Optimal solution found.\n",
      "-------------------------------------------------------------------------------\n",
      "                                    Summary                                    \n",
      "-------------------------------------------------------------------------------\n",
      "(CVXPY) Mar 10 09:18:01 PM: Problem status: optimal\n",
      "(CVXPY) Mar 10 09:18:01 PM: Optimal value: 1.383e+02\n",
      "(CVXPY) Mar 10 09:18:01 PM: Compilation took 4.483e-01 seconds\n",
      "(CVXPY) Mar 10 09:18:01 PM: Solver (including time spent in interface) took 4.061e+01 seconds\n",
      "r =  0.2\n"
     ]
    },
    {
     "data": {
      "image/png": "[encoded data removed]",
      "text/plain": [
       "<Figure size 432x288 with 1 Axes>"
      ]
     },
     "metadata": {
      "needs_background": "light"
     },
     "output_type": "display_data"
    }
   ],
   "source": [
    "# third round\n",
    "one_round(0.2)"
   ]
  },
  {
   "cell_type": "markdown",
   "id": "914f4cc5",
   "metadata": {
    "heading_collapsed": true,
    "hidden": true
   },
   "source": [
    "### r = 0.4"
   ]
  },
  {
   "cell_type": "code",
   "execution_count": 252,
   "id": "f1122f3a",
   "metadata": {
    "ExecuteTime": {
     "end_time": "2022-03-11T05:19:06.338071Z",
     "start_time": "2022-03-11T05:18:07.598916Z"
    },
    "hidden": true
   },
   "outputs": [
    {
     "name": "stdout",
     "output_type": "stream",
     "text": [
      "===============================================================================\n",
      "                                     CVXPY                                     \n",
      "                                    v1.1.18                                    \n",
      "===============================================================================\n",
      "(CVXPY) Mar 10 09:18:07 PM: Your problem has 2173 variables, 1 constraints, and 0 parameters.\n",
      "(CVXPY) Mar 10 09:18:07 PM: It is compliant with the following grammars: DCP, DQCP\n",
      "(CVXPY) Mar 10 09:18:07 PM: (If you need to solve this problem multiple times, but with different data, consider using parameters.)\n",
      "(CVXPY) Mar 10 09:18:07 PM: CVXPY will first compile your problem; then, it will invoke a numerical solver to obtain a solution.\n",
      "-------------------------------------------------------------------------------\n",
      "                                  Compilation                                  \n",
      "-------------------------------------------------------------------------------\n",
      "(CVXPY) Mar 10 09:18:07 PM: Compiling problem (target solver=CVXOPT).\n",
      "(CVXPY) Mar 10 09:18:07 PM: Reduction chain: Dcp2Cone -> CvxAttr2Constr -> ConeMatrixStuffing -> CVXOPT\n",
      "(CVXPY) Mar 10 09:18:07 PM: Applying reduction Dcp2Cone\n",
      "(CVXPY) Mar 10 09:18:07 PM: Applying reduction CvxAttr2Constr\n",
      "(CVXPY) Mar 10 09:18:07 PM: Applying reduction ConeMatrixStuffing\n",
      "(CVXPY) Mar 10 09:18:08 PM: Applying reduction CVXOPT\n",
      "(CVXPY) Mar 10 09:18:08 PM: Finished problem compilation (took 1.015e+00 seconds).\n",
      "-------------------------------------------------------------------------------\n",
      "                                Numerical solver                               \n",
      "-------------------------------------------------------------------------------\n",
      "(CVXPY) Mar 10 09:18:08 PM: Invoking solver CVXOPT  to obtain a solution.\n",
      "     pcost       dcost       gap    pres   dres   k/t\n",
      " 0: -9.4215e-13 -3.7006e-13  3e+04  8e+02  2e-09  1e+00\n",
      " 1:  3.2172e+01  3.2522e+01  1e+04  3e+02  7e-10  8e-01\n",
      " 2:  5.0865e+01  5.1052e+01  1e+03  4e+01  9e-11  2e-01\n",
      " 3:  1.0739e+02  1.0748e+02  6e+02  2e+01  4e-11  1e-01\n",
      " 4:  1.6021e+02  1.6024e+02  2e+02  6e+00  1e-11  4e-02\n",
      " 5:  1.8537e+02  1.8539e+02  8e+01  2e+00  5e-12  2e-02\n",
      " 6:  1.9444e+02  1.9445e+02  4e+01  1e+00  2e-12  7e-03\n",
      " 7:  1.9836e+02  1.9836e+02  2e+01  5e-01  1e-12  3e-03\n",
      " 8:  1.9994e+02  1.9994e+02  7e+00  2e-01  4e-13  1e-03\n",
      " 9:  2.0070e+02  2.0070e+02  3e+00  8e-02  2e-13  6e-04\n",
      "10:  2.0103e+02  2.0103e+02  1e+00  3e-02  8e-14  2e-04\n",
      "11:  2.0117e+02  2.0117e+02  4e-01  1e-02  5e-14  9e-05\n",
      "12:  2.0122e+02  2.0122e+02  1e-01  4e-03  5e-14  3e-05\n",
      "13:  2.0124e+02  2.0124e+02  5e-02  1e-03  4e-14  1e-05\n",
      "14:  2.0124e+02  2.0124e+02  2e-02  7e-04  4e-14  5e-06\n",
      "15:  2.0125e+02  2.0125e+02  5e-03  2e-04  5e-14  1e-06\n",
      "16:  2.0125e+02  2.0125e+02  2e-03  6e-05  4e-14  5e-07\n",
      "17:  2.0125e+02  2.0125e+02  3e-04  9e-06  3e-13  7e-08\n",
      "18:  2.0125e+02  2.0125e+02  6e-05  2e-06  5e-11  1e-08\n",
      "19:  2.0125e+02  2.0125e+02  8e-07  2e-08  2e-09  2e-10\n",
      "Optimal solution found.\n",
      "-------------------------------------------------------------------------------\n",
      "                                    Summary                                    \n",
      "-------------------------------------------------------------------------------\n",
      "(CVXPY) Mar 10 09:19:06 PM: Problem status: optimal\n",
      "(CVXPY) Mar 10 09:19:06 PM: Optimal value: 2.012e+02\n",
      "(CVXPY) Mar 10 09:19:06 PM: Compilation took 1.015e+00 seconds\n",
      "(CVXPY) Mar 10 09:19:06 PM: Solver (including time spent in interface) took 5.751e+01 seconds\n",
      "r =  0.4\n"
     ]
    },
    {
     "data": {
      "image/png": "[encoded data removed]",
      "text/plain": [
       "<Figure size 432x288 with 1 Axes>"
      ]
     },
     "metadata": {
      "needs_background": "light"
     },
     "output_type": "display_data"
    }
   ],
   "source": [
    "# first round\n",
    "one_round(0.4)"
   ]
  },
  {
   "cell_type": "code",
   "execution_count": 253,
   "id": "31e48fe2",
   "metadata": {
    "ExecuteTime": {
     "end_time": "2022-03-11T05:19:59.722427Z",
     "start_time": "2022-03-11T05:19:06.386518Z"
    },
    "hidden": true
   },
   "outputs": [
    {
     "name": "stdout",
     "output_type": "stream",
     "text": [
      "===============================================================================\n",
      "                                     CVXPY                                     \n",
      "                                    v1.1.18                                    \n",
      "===============================================================================\n",
      "(CVXPY) Mar 10 09:19:06 PM: Your problem has 2173 variables, 1 constraints, and 0 parameters.\n",
      "(CVXPY) Mar 10 09:19:06 PM: It is compliant with the following grammars: DCP, DQCP\n",
      "(CVXPY) Mar 10 09:19:06 PM: (If you need to solve this problem multiple times, but with different data, consider using parameters.)\n",
      "(CVXPY) Mar 10 09:19:06 PM: CVXPY will first compile your problem; then, it will invoke a numerical solver to obtain a solution.\n",
      "-------------------------------------------------------------------------------\n",
      "                                  Compilation                                  \n",
      "-------------------------------------------------------------------------------\n",
      "(CVXPY) Mar 10 09:19:06 PM: Compiling problem (target solver=CVXOPT).\n",
      "(CVXPY) Mar 10 09:19:06 PM: Reduction chain: Dcp2Cone -> CvxAttr2Constr -> ConeMatrixStuffing -> CVXOPT\n",
      "(CVXPY) Mar 10 09:19:06 PM: Applying reduction Dcp2Cone\n",
      "(CVXPY) Mar 10 09:19:06 PM: Applying reduction CvxAttr2Constr\n",
      "(CVXPY) Mar 10 09:19:06 PM: Applying reduction ConeMatrixStuffing\n",
      "(CVXPY) Mar 10 09:19:06 PM: Applying reduction CVXOPT\n",
      "(CVXPY) Mar 10 09:19:07 PM: Finished problem compilation (took 1.014e+00 seconds).\n",
      "-------------------------------------------------------------------------------\n",
      "                                Numerical solver                               \n",
      "-------------------------------------------------------------------------------\n",
      "(CVXPY) Mar 10 09:19:07 PM: Invoking solver CVXOPT  to obtain a solution.\n",
      "     pcost       dcost       gap    pres   dres   k/t\n",
      " 0: -1.3258e-12 -3.6659e-13  3e+04  8e+02  1e-09  1e+00\n",
      " 1:  3.2255e+01  3.2602e+01  1e+04  3e+02  5e-10  8e-01\n",
      " 2:  5.1485e+01  5.1671e+01  2e+03  5e+01  6e-11  2e-01\n",
      " 3:  1.0781e+02  1.0789e+02  6e+02  2e+01  3e-11  1e-01\n",
      " 4:  1.5725e+02  1.5728e+02  2e+02  6e+00  9e-12  4e-02\n",
      " 5:  1.8082e+02  1.8083e+02  8e+01  3e+00  4e-12  2e-02\n",
      " 6:  1.9131e+02  1.9132e+02  3e+01  1e+00  1e-12  6e-03\n",
      " 7:  1.9472e+02  1.9472e+02  1e+01  4e-01  6e-13  3e-03\n",
      " 8:  1.9614e+02  1.9614e+02  6e+00  2e-01  3e-13  1e-03\n",
      " 9:  1.9684e+02  1.9684e+02  2e+00  7e-02  1e-13  5e-04\n",
      "10:  1.9711e+02  1.9711e+02  1e+00  3e-02  5e-14  2e-04\n",
      "11:  1.9723e+02  1.9723e+02  4e-01  1e-02  4e-14  8e-05\n",
      "12:  1.9727e+02  1.9727e+02  2e-01  5e-03  4e-14  4e-05\n",
      "13:  1.9729e+02  1.9729e+02  6e-02  2e-03  4e-14  1e-05\n",
      "14:  1.9730e+02  1.9730e+02  2e-02  6e-04  4e-14  4e-06\n",
      "15:  1.9730e+02  1.9730e+02  4e-03  1e-04  4e-14  1e-06\n",
      "16:  1.9730e+02  1.9730e+02  8e-04  2e-05  1e-13  2e-07\n",
      "17:  1.9730e+02  1.9730e+02  1e-04  3e-06  3e-13  2e-08\n",
      "18:  1.9730e+02  1.9730e+02  2e-06  6e-08  7e-10  5e-10\n",
      "Optimal solution found.\n",
      "-------------------------------------------------------------------------------\n",
      "                                    Summary                                    \n",
      "-------------------------------------------------------------------------------\n",
      "(CVXPY) Mar 10 09:19:59 PM: Problem status: optimal\n",
      "(CVXPY) Mar 10 09:19:59 PM: Optimal value: 1.973e+02\n",
      "(CVXPY) Mar 10 09:19:59 PM: Compilation took 1.014e+00 seconds\n",
      "(CVXPY) Mar 10 09:19:59 PM: Solver (including time spent in interface) took 5.211e+01 seconds\n",
      "r =  0.4\n"
     ]
    },
    {
     "data": {
      "image/png": "[encoded data removed]",
      "text/plain": [
       "<Figure size 432x288 with 1 Axes>"
      ]
     },
     "metadata": {
      "needs_background": "light"
     },
     "output_type": "display_data"
    }
   ],
   "source": [
    "# second round\n",
    "one_round(0.4)"
   ]
  },
  {
   "cell_type": "code",
   "execution_count": 254,
   "id": "ee6c5d50",
   "metadata": {
    "ExecuteTime": {
     "end_time": "2022-03-11T05:20:54.867465Z",
     "start_time": "2022-03-11T05:19:59.825502Z"
    },
    "hidden": true
   },
   "outputs": [
    {
     "name": "stdout",
     "output_type": "stream",
     "text": [
      "===============================================================================\n",
      "                                     CVXPY                                     \n",
      "                                    v1.1.18                                    \n",
      "===============================================================================\n",
      "(CVXPY) Mar 10 09:19:59 PM: Your problem has 2173 variables, 1 constraints, and 0 parameters.\n",
      "(CVXPY) Mar 10 09:19:59 PM: It is compliant with the following grammars: DCP, DQCP\n",
      "(CVXPY) Mar 10 09:19:59 PM: (If you need to solve this problem multiple times, but with different data, consider using parameters.)\n",
      "(CVXPY) Mar 10 09:19:59 PM: CVXPY will first compile your problem; then, it will invoke a numerical solver to obtain a solution.\n",
      "-------------------------------------------------------------------------------\n",
      "                                  Compilation                                  \n",
      "-------------------------------------------------------------------------------\n",
      "(CVXPY) Mar 10 09:19:59 PM: Compiling problem (target solver=CVXOPT).\n",
      "(CVXPY) Mar 10 09:19:59 PM: Reduction chain: Dcp2Cone -> CvxAttr2Constr -> ConeMatrixStuffing -> CVXOPT\n",
      "(CVXPY) Mar 10 09:19:59 PM: Applying reduction Dcp2Cone\n",
      "(CVXPY) Mar 10 09:19:59 PM: Applying reduction CvxAttr2Constr\n",
      "(CVXPY) Mar 10 09:19:59 PM: Applying reduction ConeMatrixStuffing\n",
      "(CVXPY) Mar 10 09:20:00 PM: Applying reduction CVXOPT\n",
      "(CVXPY) Mar 10 09:20:00 PM: Finished problem compilation (took 1.025e+00 seconds).\n",
      "-------------------------------------------------------------------------------\n",
      "                                Numerical solver                               \n",
      "-------------------------------------------------------------------------------\n",
      "(CVXPY) Mar 10 09:20:00 PM: Invoking solver CVXOPT  to obtain a solution.\n",
      "     pcost       dcost       gap    pres   dres   k/t\n",
      " 0: -4.9616e-13 -1.0874e-12  3e+04  8e+02  2e-09  1e+00\n",
      " 1:  3.2273e+01  3.2614e+01  1e+04  3e+02  1e-09  8e-01\n",
      " 2:  5.2772e+01  5.2956e+01  2e+03  5e+01  1e-10  2e-01\n",
      " 3:  1.1460e+02  1.1468e+02  6e+02  2e+01  6e-11  1e-01\n",
      " 4:  1.6351e+02  1.6354e+02  2e+02  7e+00  2e-11  4e-02\n",
      " 5:  1.9287e+02  1.9288e+02  8e+01  2e+00  7e-12  1e-02\n",
      " 6:  2.0232e+02  2.0232e+02  3e+01  9e-01  3e-12  6e-03\n",
      " 7:  2.0570e+02  2.0571e+02  1e+01  4e-01  1e-12  2e-03\n",
      " 8:  2.0699e+02  2.0699e+02  6e+00  2e-01  5e-13  1e-03\n",
      " 9:  2.0767e+02  2.0767e+02  2e+00  7e-02  2e-13  5e-04\n",
      "10:  2.0792e+02  2.0792e+02  1e+00  3e-02  1e-13  2e-04\n",
      "11:  2.0804e+02  2.0804e+02  4e-01  1e-02  6e-14  8e-05\n",
      "12:  2.0808e+02  2.0808e+02  2e-01  5e-03  5e-14  4e-05\n",
      "13:  2.0810e+02  2.0810e+02  5e-02  2e-03  4e-14  1e-05\n",
      "14:  2.0811e+02  2.0811e+02  2e-02  6e-04  4e-14  5e-06\n",
      "15:  2.0811e+02  2.0811e+02  4e-03  1e-04  5e-14  9e-07\n",
      "16:  2.0811e+02  2.0811e+02  5e-04  2e-05  2e-13  1e-07\n",
      "17:  2.0811e+02  2.0811e+02  6e-05  2e-06  9e-11  1e-08\n",
      "18:  2.0811e+02  2.0811e+02  2e-05  5e-07  1e-07  4e-09\n",
      "19:  2.0811e+02  2.0811e+02  2e-06  8e-08  8e-08  6e-10\n",
      "Optimal solution found.\n",
      "-------------------------------------------------------------------------------\n",
      "                                    Summary                                    \n",
      "-------------------------------------------------------------------------------\n",
      "(CVXPY) Mar 10 09:20:54 PM: Problem status: optimal\n",
      "(CVXPY) Mar 10 09:20:54 PM: Optimal value: 2.081e+02\n",
      "(CVXPY) Mar 10 09:20:54 PM: Compilation took 1.025e+00 seconds\n",
      "(CVXPY) Mar 10 09:20:54 PM: Solver (including time spent in interface) took 5.380e+01 seconds\n",
      "r =  0.4\n"
     ]
    },
    {
     "data": {
      "image/png": "[encoded data removed]",
      "text/plain": [
       "<Figure size 432x288 with 1 Axes>"
      ]
     },
     "metadata": {
      "needs_background": "light"
     },
     "output_type": "display_data"
    }
   ],
   "source": [
    "# third round\n",
    "one_round(0.4)"
   ]
  },
  {
   "cell_type": "markdown",
   "id": "4bada378",
   "metadata": {
    "heading_collapsed": true,
    "hidden": true
   },
   "source": [
    "### r = 0.6"
   ]
  },
  {
   "cell_type": "code",
   "execution_count": 255,
   "id": "381d0612",
   "metadata": {
    "ExecuteTime": {
     "end_time": "2022-03-11T05:22:08.567691Z",
     "start_time": "2022-03-11T05:20:54.915089Z"
    },
    "hidden": true
   },
   "outputs": [
    {
     "name": "stdout",
     "output_type": "stream",
     "text": [
      "===============================================================================\n",
      "                                     CVXPY                                     \n",
      "                                    v1.1.18                                    \n",
      "===============================================================================\n",
      "(CVXPY) Mar 10 09:20:55 PM: Your problem has 2173 variables, 1 constraints, and 0 parameters.\n",
      "(CVXPY) Mar 10 09:20:55 PM: It is compliant with the following grammars: DCP, DQCP\n",
      "(CVXPY) Mar 10 09:20:55 PM: (If you need to solve this problem multiple times, but with different data, consider using parameters.)\n",
      "(CVXPY) Mar 10 09:20:55 PM: CVXPY will first compile your problem; then, it will invoke a numerical solver to obtain a solution.\n",
      "-------------------------------------------------------------------------------\n",
      "                                  Compilation                                  \n",
      "-------------------------------------------------------------------------------\n",
      "(CVXPY) Mar 10 09:20:55 PM: Compiling problem (target solver=CVXOPT).\n",
      "(CVXPY) Mar 10 09:20:55 PM: Reduction chain: Dcp2Cone -> CvxAttr2Constr -> ConeMatrixStuffing -> CVXOPT\n",
      "(CVXPY) Mar 10 09:20:55 PM: Applying reduction Dcp2Cone\n",
      "(CVXPY) Mar 10 09:20:55 PM: Applying reduction CvxAttr2Constr\n",
      "(CVXPY) Mar 10 09:20:55 PM: Applying reduction ConeMatrixStuffing\n",
      "(CVXPY) Mar 10 09:20:55 PM: Applying reduction CVXOPT\n",
      "(CVXPY) Mar 10 09:20:56 PM: Finished problem compilation (took 1.502e+00 seconds).\n",
      "-------------------------------------------------------------------------------\n",
      "                                Numerical solver                               \n",
      "-------------------------------------------------------------------------------\n",
      "(CVXPY) Mar 10 09:20:56 PM: Invoking solver CVXOPT  to obtain a solution.\n",
      "     pcost       dcost       gap    pres   dres   k/t\n",
      " 0: -2.1502e-12  1.1179e-12  4e+04  1e+03  1e-09  1e+00\n",
      " 1:  3.2977e+01  3.3596e+01  1e+04  4e+02  5e-10  1e+00\n",
      " 2:  5.5722e+01  5.5826e+01  2e+03  6e+01  7e-11  2e-01\n",
      " 3:  1.2964e+02  1.2968e+02  6e+02  2e+01  2e-11  6e-02\n",
      " 4:  1.9959e+02  1.9960e+02  2e+02  5e+00  6e-12  2e-02\n",
      " 5:  2.2908e+02  2.2909e+02  6e+01  2e+00  2e-12  7e-03\n",
      " 6:  2.4020e+02  2.4020e+02  2e+01  7e-01  9e-13  3e-03\n",
      " 7:  2.4417e+02  2.4417e+02  9e+00  3e-01  3e-13  1e-03\n",
      " 8:  2.4567e+02  2.4567e+02  4e+00  1e-01  2e-13  7e-04\n",
      " 9:  2.4622e+02  2.4622e+02  2e+00  7e-02  9e-14  4e-04\n",
      "10:  2.4664e+02  2.4664e+02  7e-01  2e-02  7e-14  2e-04\n",
      "11:  2.4676e+02  2.4676e+02  3e-01  9e-03  6e-14  7e-05\n",
      "12:  2.4682e+02  2.4682e+02  1e-01  4e-03  6e-14  3e-05\n",
      "13:  2.4684e+02  2.4684e+02  4e-02  1e-03  6e-14  9e-06\n",
      "14:  2.4685e+02  2.4685e+02  1e-02  4e-04  6e-14  3e-06\n",
      "15:  2.4685e+02  2.4685e+02  6e-03  2e-04  6e-14  1e-06\n",
      "16:  2.4685e+02  2.4685e+02  1e-03  4e-05  7e-14  3e-07\n",
      "17:  2.4685e+02  2.4685e+02  4e-04  1e-05  4e-12  1e-07\n",
      "18:  2.4685e+02  2.4685e+02  8e-05  3e-06  5e-11  2e-08\n",
      "19:  2.4685e+02  2.4685e+02  1e-05  3e-07  7e-10  2e-09\n",
      "20:  2.4685e+02  2.4685e+02  1e-07  4e-09  1e-08  3e-11\n",
      "Optimal solution found.\n",
      "-------------------------------------------------------------------------------\n",
      "                                    Summary                                    \n",
      "-------------------------------------------------------------------------------\n",
      "(CVXPY) Mar 10 09:22:08 PM: Problem status: optimal\n",
      "(CVXPY) Mar 10 09:22:08 PM: Optimal value: 2.469e+02\n",
      "(CVXPY) Mar 10 09:22:08 PM: Compilation took 1.502e+00 seconds\n",
      "(CVXPY) Mar 10 09:22:08 PM: Solver (including time spent in interface) took 7.192e+01 seconds\n",
      "r =  0.6\n"
     ]
    },
    {
     "data": {
      "image/png": "[encoded data removed]",
      "text/plain": [
       "<Figure size 432x288 with 1 Axes>"
      ]
     },
     "metadata": {
      "needs_background": "light"
     },
     "output_type": "display_data"
    }
   ],
   "source": [
    "# first round\n",
    "one_round(0.6)"
   ]
  },
  {
   "cell_type": "code",
   "execution_count": 257,
   "id": "5335a6c0",
   "metadata": {
    "ExecuteTime": {
     "end_time": "2022-03-11T05:26:03.942839Z",
     "start_time": "2022-03-11T05:24:51.824973Z"
    },
    "hidden": true
   },
   "outputs": [
    {
     "name": "stdout",
     "output_type": "stream",
     "text": [
      "===============================================================================\n",
      "                                     CVXPY                                     \n",
      "                                    v1.1.18                                    \n",
      "===============================================================================\n",
      "(CVXPY) Mar 10 09:24:51 PM: Your problem has 2173 variables, 1 constraints, and 0 parameters.\n",
      "(CVXPY) Mar 10 09:24:51 PM: It is compliant with the following grammars: DCP, DQCP\n",
      "(CVXPY) Mar 10 09:24:51 PM: (If you need to solve this problem multiple times, but with different data, consider using parameters.)\n",
      "(CVXPY) Mar 10 09:24:51 PM: CVXPY will first compile your problem; then, it will invoke a numerical solver to obtain a solution.\n",
      "-------------------------------------------------------------------------------\n",
      "                                  Compilation                                  \n",
      "-------------------------------------------------------------------------------\n",
      "(CVXPY) Mar 10 09:24:51 PM: Compiling problem (target solver=CVXOPT).\n",
      "(CVXPY) Mar 10 09:24:51 PM: Reduction chain: Dcp2Cone -> CvxAttr2Constr -> ConeMatrixStuffing -> CVXOPT\n",
      "(CVXPY) Mar 10 09:24:51 PM: Applying reduction Dcp2Cone\n",
      "(CVXPY) Mar 10 09:24:51 PM: Applying reduction CvxAttr2Constr\n",
      "(CVXPY) Mar 10 09:24:51 PM: Applying reduction ConeMatrixStuffing\n",
      "(CVXPY) Mar 10 09:24:52 PM: Applying reduction CVXOPT\n",
      "(CVXPY) Mar 10 09:24:53 PM: Finished problem compilation (took 1.623e+00 seconds).\n",
      "-------------------------------------------------------------------------------\n",
      "                                Numerical solver                               \n",
      "-------------------------------------------------------------------------------\n",
      "(CVXPY) Mar 10 09:24:53 PM: Invoking solver CVXOPT  to obtain a solution.\n",
      "     pcost       dcost       gap    pres   dres   k/t\n",
      " 0: -6.2400e-13 -1.5450e-13  4e+04  1e+03  2e-09  1e+00\n",
      " 1:  3.2953e+01  3.3569e+01  1e+04  4e+02  8e-10  1e+00\n",
      " 2:  5.5925e+01  5.6028e+01  2e+03  6e+01  1e-10  2e-01\n",
      " 3:  1.3047e+02  1.3051e+02  5e+02  2e+01  3e-11  5e-02\n",
      " 4:  1.9904e+02  1.9905e+02  1e+02  4e+00  8e-12  2e-02\n",
      " 5:  2.2727e+02  2.2727e+02  5e+01  1e+00  3e-12  6e-03\n",
      " 6:  2.3603e+02  2.3603e+02  2e+01  5e-01  1e-12  3e-03\n",
      " 7:  2.3914e+02  2.3914e+02  7e+00  2e-01  4e-13  1e-03\n",
      " 8:  2.4017e+02  2.4017e+02  3e+00  1e-01  2e-13  6e-04\n",
      " 9:  2.4075e+02  2.4075e+02  1e+00  3e-02  9e-14  2e-04\n",
      "10:  2.4094e+02  2.4094e+02  5e-01  2e-02  7e-14  1e-04\n",
      "11:  2.4104e+02  2.4104e+02  2e-01  5e-03  7e-14  4e-05\n",
      "12:  2.4107e+02  2.4107e+02  6e-02  2e-03  6e-14  1e-05\n",
      "13:  2.4108e+02  2.4108e+02  2e-02  6e-04  6e-14  5e-06\n",
      "14:  2.4109e+02  2.4109e+02  8e-03  2e-04  6e-14  2e-06\n",
      "15:  2.4109e+02  2.4109e+02  3e-03  9e-05  8e-14  7e-07\n",
      "16:  2.4109e+02  2.4109e+02  3e-04  1e-05  6e-13  8e-08\n",
      "17:  2.4109e+02  2.4109e+02  5e-05  2e-06  4e-11  1e-08\n",
      "18:  2.4109e+02  2.4109e+02  1e-06  4e-08  2e-08  3e-10\n",
      "Optimal solution found.\n",
      "-------------------------------------------------------------------------------\n",
      "                                    Summary                                    \n",
      "-------------------------------------------------------------------------------\n",
      "(CVXPY) Mar 10 09:26:03 PM: Problem status: optimal\n",
      "(CVXPY) Mar 10 09:26:03 PM: Optimal value: 2.411e+02\n",
      "(CVXPY) Mar 10 09:26:03 PM: Compilation took 1.623e+00 seconds\n",
      "(CVXPY) Mar 10 09:26:03 PM: Solver (including time spent in interface) took 7.025e+01 seconds\n",
      "r =  0.6\n"
     ]
    },
    {
     "data": {
      "image/png": "[encoded data removed]",
      "text/plain": [
       "<Figure size 432x288 with 1 Axes>"
      ]
     },
     "metadata": {
      "needs_background": "light"
     },
     "output_type": "display_data"
    }
   ],
   "source": [
    "# second round\n",
    "one_round(0.6)"
   ]
  },
  {
   "cell_type": "code",
   "execution_count": 258,
   "id": "dd127d64",
   "metadata": {
    "ExecuteTime": {
     "end_time": "2022-03-11T05:27:17.084204Z",
     "start_time": "2022-03-11T05:26:03.989763Z"
    },
    "hidden": true
   },
   "outputs": [
    {
     "name": "stdout",
     "output_type": "stream",
     "text": [
      "===============================================================================\n",
      "                                     CVXPY                                     \n",
      "                                    v1.1.18                                    \n",
      "===============================================================================\n",
      "(CVXPY) Mar 10 09:26:04 PM: Your problem has 2173 variables, 1 constraints, and 0 parameters.\n",
      "(CVXPY) Mar 10 09:26:04 PM: It is compliant with the following grammars: DCP, DQCP\n",
      "(CVXPY) Mar 10 09:26:04 PM: (If you need to solve this problem multiple times, but with different data, consider using parameters.)\n",
      "(CVXPY) Mar 10 09:26:04 PM: CVXPY will first compile your problem; then, it will invoke a numerical solver to obtain a solution.\n",
      "-------------------------------------------------------------------------------\n",
      "                                  Compilation                                  \n",
      "-------------------------------------------------------------------------------\n",
      "(CVXPY) Mar 10 09:26:04 PM: Compiling problem (target solver=CVXOPT).\n",
      "(CVXPY) Mar 10 09:26:04 PM: Reduction chain: Dcp2Cone -> CvxAttr2Constr -> ConeMatrixStuffing -> CVXOPT\n",
      "(CVXPY) Mar 10 09:26:04 PM: Applying reduction Dcp2Cone\n",
      "(CVXPY) Mar 10 09:26:04 PM: Applying reduction CvxAttr2Constr\n",
      "(CVXPY) Mar 10 09:26:04 PM: Applying reduction ConeMatrixStuffing\n",
      "(CVXPY) Mar 10 09:26:04 PM: Applying reduction CVXOPT\n",
      "(CVXPY) Mar 10 09:26:05 PM: Finished problem compilation (took 1.573e+00 seconds).\n",
      "-------------------------------------------------------------------------------\n",
      "                                Numerical solver                               \n",
      "-------------------------------------------------------------------------------\n",
      "(CVXPY) Mar 10 09:26:05 PM: Invoking solver CVXOPT  to obtain a solution.\n",
      "     pcost       dcost       gap    pres   dres   k/t\n",
      " 0: -2.5913e-13  1.1674e-12  4e+04  1e+03  1e-09  1e+00\n",
      " 1:  3.2757e+01  3.3370e+01  1e+04  4e+02  5e-10  1e+00\n",
      " 2:  5.5374e+01  5.5479e+01  2e+03  6e+01  7e-11  2e-01\n",
      " 3:  1.3231e+02  1.3235e+02  5e+02  2e+01  2e-11  5e-02\n",
      " 4:  2.0012e+02  2.0014e+02  2e+02  5e+00  6e-12  2e-02\n",
      " 5:  2.2847e+02  2.2848e+02  6e+01  2e+00  2e-12  7e-03\n",
      " 6:  2.3845e+02  2.3845e+02  2e+01  7e-01  9e-13  3e-03\n",
      " 7:  2.4261e+02  2.4261e+02  1e+01  3e-01  4e-13  2e-03\n",
      " 8:  2.4438e+02  2.4438e+02  4e+00  1e-01  2e-13  7e-04\n",
      " 9:  2.4516e+02  2.4516e+02  1e+00  4e-02  7e-14  3e-04\n",
      "10:  2.4534e+02  2.4534e+02  7e-01  2e-02  6e-14  1e-04\n",
      "11:  2.4546e+02  2.4546e+02  3e-01  9e-03  6e-14  6e-05\n",
      "12:  2.4551e+02  2.4551e+02  1e-01  4e-03  6e-14  3e-05\n",
      "13:  2.4553e+02  2.4553e+02  5e-02  2e-03  6e-14  1e-05\n",
      "14:  2.4554e+02  2.4554e+02  1e-02  4e-04  6e-14  3e-06\n",
      "15:  2.4555e+02  2.4555e+02  5e-03  1e-04  6e-14  1e-06\n",
      "16:  2.4555e+02  2.4555e+02  1e-03  4e-05  8e-14  3e-07\n",
      "17:  2.4555e+02  2.4555e+02  4e-04  1e-05  4e-13  9e-08\n",
      "18:  2.4555e+02  2.4555e+02  5e-05  2e-06  4e-12  1e-08\n",
      "19:  2.4555e+02  2.4555e+02  6e-07  2e-08  3e-09  1e-10\n",
      "Optimal solution found.\n",
      "-------------------------------------------------------------------------------\n",
      "                                    Summary                                    \n",
      "-------------------------------------------------------------------------------\n",
      "(CVXPY) Mar 10 09:27:16 PM: Problem status: optimal\n",
      "(CVXPY) Mar 10 09:27:16 PM: Optimal value: 2.455e+02\n",
      "(CVXPY) Mar 10 09:27:16 PM: Compilation took 1.573e+00 seconds\n",
      "(CVXPY) Mar 10 09:27:16 PM: Solver (including time spent in interface) took 7.128e+01 seconds\n",
      "r =  0.6\n"
     ]
    },
    {
     "data": {
      "image/png": "[encoded data removed]",
      "text/plain": [
       "<Figure size 432x288 with 1 Axes>"
      ]
     },
     "metadata": {
      "needs_background": "light"
     },
     "output_type": "display_data"
    }
   ],
   "source": [
    "# third round\n",
    "one_round(0.6)"
   ]
  },
  {
   "cell_type": "markdown",
   "id": "0027a9d1",
   "metadata": {},
   "source": [
    "## Mysterious Image"
   ]
  },
  {
   "cell_type": "code",
   "execution_count": 293,
   "id": "792fa0ce",
   "metadata": {
    "ExecuteTime": {
     "end_time": "2022-03-11T06:40:17.629105Z",
     "start_time": "2022-03-11T06:40:17.434680Z"
    }
   },
   "outputs": [],
   "source": [
    "data = np.load('UnknownImage.npz')\n",
    "B = data[data.files[0]]\n",
    "y = data[data.files[1]].reshape(-1,1)\n",
    "\n",
    "D2 = construct_DCT_Mat(50,50)\n",
    "D_inv2 = construct_iDCT_Mat(50,50)"
   ]
  },
  {
   "cell_type": "code",
   "execution_count": 294,
   "id": "01ac8609",
   "metadata": {
    "ExecuteTime": {
     "end_time": "2022-03-11T06:43:34.125845Z",
     "start_time": "2022-03-11T06:40:56.895739Z"
    }
   },
   "outputs": [
    {
     "name": "stdout",
     "output_type": "stream",
     "text": [
      "===============================================================================\n",
      "                                     CVXPY                                     \n",
      "                                    v1.1.18                                    \n",
      "===============================================================================\n",
      "(CVXPY) Mar 10 10:40:57 PM: Your problem has 2500 variables, 1 constraints, and 0 parameters.\n",
      "(CVXPY) Mar 10 10:40:57 PM: It is compliant with the following grammars: DCP, DQCP\n",
      "(CVXPY) Mar 10 10:40:57 PM: (If you need to solve this problem multiple times, but with different data, consider using parameters.)\n",
      "(CVXPY) Mar 10 10:40:57 PM: CVXPY will first compile your problem; then, it will invoke a numerical solver to obtain a solution.\n",
      "-------------------------------------------------------------------------------\n",
      "                                  Compilation                                  \n",
      "-------------------------------------------------------------------------------\n",
      "(CVXPY) Mar 10 10:40:57 PM: Compiling problem (target solver=CVXOPT).\n",
      "(CVXPY) Mar 10 10:40:57 PM: Reduction chain: Dcp2Cone -> CvxAttr2Constr -> ConeMatrixStuffing -> CVXOPT\n",
      "(CVXPY) Mar 10 10:40:57 PM: Applying reduction Dcp2Cone\n",
      "(CVXPY) Mar 10 10:40:57 PM: Applying reduction CvxAttr2Constr\n",
      "(CVXPY) Mar 10 10:40:57 PM: Applying reduction ConeMatrixStuffing\n",
      "(CVXPY) Mar 10 10:40:58 PM: Applying reduction CVXOPT\n",
      "(CVXPY) Mar 10 10:40:59 PM: Finished problem compilation (took 2.849e+00 seconds).\n",
      "-------------------------------------------------------------------------------\n",
      "                                Numerical solver                               \n",
      "-------------------------------------------------------------------------------\n",
      "(CVXPY) Mar 10 10:40:59 PM: Invoking solver CVXOPT  to obtain a solution.\n",
      "     pcost       dcost       gap    pres   dres   k/t\n",
      " 0:  4.2324e-12  3.1223e-12  3e+04  1e+03  1e-09  1e+00\n",
      " 1:  2.9658e+01  3.0189e+01  1e+04  3e+02  3e-10  8e-01\n",
      " 2:  7.2762e+01  7.2854e+01  1e+03  4e+01  4e-11  1e-01\n",
      " 3:  2.0176e+02  2.0179e+02  3e+02  8e+00  8e-12  3e-02\n",
      " 4:  2.8074e+02  2.8075e+02  1e+02  3e+00  3e-12  1e-02\n",
      " 5:  3.0448e+02  3.0449e+02  4e+01  1e+00  1e-12  5e-03\n",
      " 6:  3.1328e+02  3.1329e+02  2e+01  6e-01  6e-13  3e-03\n",
      " 7:  3.1837e+02  3.1837e+02  8e+00  2e-01  3e-13  1e-03\n",
      " 8:  3.2029e+02  3.2029e+02  3e+00  9e-02  2e-13  5e-04\n",
      " 9:  3.2099e+02  3.2099e+02  1e+00  4e-02  1e-13  2e-04\n",
      "10:  3.2129e+02  3.2129e+02  5e-01  1e-02  1e-13  9e-05\n",
      "11:  3.2141e+02  3.2141e+02  2e-01  6e-03  1e-13  4e-05\n",
      "12:  3.2146e+02  3.2146e+02  9e-02  2e-03  1e-13  2e-05\n",
      "13:  3.2149e+02  3.2149e+02  2e-02  6e-04  1e-13  4e-06\n",
      "14:  3.2149e+02  3.2149e+02  5e-03  1e-04  1e-13  1e-06\n",
      "15:  3.2149e+02  3.2149e+02  1e-03  4e-05  4e-13  3e-07\n",
      "16:  3.2149e+02  3.2149e+02  3e-04  9e-06  2e-11  6e-08\n",
      "17:  3.2149e+02  3.2149e+02  8e-06  2e-07  1e-09  2e-09\n",
      "18:  3.2149e+02  3.2149e+02  8e-08  2e-09  5e-10  2e-11\n",
      "Optimal solution found.\n",
      "-------------------------------------------------------------------------------\n",
      "                                    Summary                                    \n",
      "-------------------------------------------------------------------------------\n",
      "(CVXPY) Mar 10 10:43:34 PM: Problem status: optimal\n",
      "(CVXPY) Mar 10 10:43:34 PM: Optimal value: 3.215e+02\n",
      "(CVXPY) Mar 10 10:43:34 PM: Compilation took 2.849e+00 seconds\n",
      "(CVXPY) Mar 10 10:43:34 PM: Solver (including time spent in interface) took 1.542e+02 seconds\n"
     ]
    }
   ],
   "source": [
    "A = np.dot(B,D_in\n",
    "problem_dct = cvxv2)\n",
    "vb = cvx.Variable((2500,1)) #vb for vector beta\n",
    "objective_dct = cvx.Minimize( cvx.norm(vb, 1) )\n",
    "constraints_dct = [A@vb == y] # equality constraints at the observation points\n",
    ".Problem(objective_dct, constraints_dct)\n",
    "result = problem_dct.solve(verbose=True,solver = 'CVXOPT',max_iter = 1000,reltol = 1e-2,featol = 1e-2)"
   ]
  },
  {
   "cell_type": "code",
   "execution_count": 295,
   "id": "6a47d3f2",
   "metadata": {
    "ExecuteTime": {
     "end_time": "2022-03-11T06:43:37.975717Z",
     "start_time": "2022-03-11T06:43:37.861860Z"
    }
   },
   "outputs": [
    {
     "data": {
      "image/png": "[encoded data removed]",
      "text/plain": [
       "<Figure size 432x288 with 1 Axes>"
      ]
     },
     "metadata": {
      "needs_background": "light"
     },
     "output_type": "display_data"
    }
   ],
   "source": [
    "plt.imshow(np.dot(D_inv2, vb.value).reshape(50, 50), cmap='gray');"
   ]
  },
  {
   "cell_type": "markdown",
   "id": "b7a7ed75",
   "metadata": {},
   "source": [
    "**It's a Nyan cat**"
   ]
  }
 ],
 "metadata": {
  "kernelspec": {
   "display_name": "Python 3",
   "language": "python",
   "name": "python3"
  },
  "language_info": {
   "codemirror_mode": {
    "name": "ipython",
    "version": 3
   },
   "file_extension": ".py",
   "mimetype": "text/x-python",
   "name": "python",
   "nbconvert_exporter": "python",
   "pygments_lexer": "ipython3",
   "version": "3.8.8"
  },
  "latex_envs": {
   "LaTeX_envs_menu_present": true,
   "autoclose": false,
   "autocomplete": true,
   "bibliofile": "biblio.bib",
   "cite_by": "apalike",
   "current_citInitial": 1,
   "eqLabelWithNumbers": true,
   "eqNumInitial": 1,
   "hotkeys": {
    "equation": "Ctrl-E",
    "itemize": "Ctrl-I"
   },
   "labels_anchors": false,
   "latex_user_defs": false,
   "report_style_numbering": false,
   "user_envs_cfg": false
  },
  "toc": {
   "base_numbering": 1,
   "nav_menu": {},
   "number_sections": true,
   "sideBar": true,
   "skip_h1_title": false,
   "title_cell": "Table of Contents",
   "title_sidebar": "Contents",
   "toc_cell": false,
   "toc_position": {},
   "toc_section_display": true,
   "toc_window_display": false
  },
  "varInspector": {
   "cols": {
    "lenName": 16,
    "lenType": 16,
    "lenVar": 40
   },
   "kernels_config": {
    "python": {
     "delete_cmd_postfix": "",
     "delete_cmd_prefix": "del ",
     "library": "var_list.py",
     "varRefreshCmd": "print(var_dic_list())"
    },
    "r": {
     "delete_cmd_postfix": ") ",
     "delete_cmd_prefix": "rm(",
     "library": "var_list.r",
     "varRefreshCmd": "cat(var_dic_list()) "
    }
   },
   "types_to_exclude": [
    "module",
    "function",
    "builtin_function_or_method",
    "instance",
    "_Feature"
   ],
   "window_display": false
  }
 },
 "nbformat": 4,
 "nbformat_minor": 5
}
