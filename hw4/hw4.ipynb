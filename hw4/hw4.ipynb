{
 "cells": [
  {
   "cell_type": "code",
   "execution_count": 3,
   "id": "7a241291",
   "metadata": {
    "ExecuteTime": {
     "end_time": "2022-03-08T04:23:24.005582Z",
     "start_time": "2022-03-08T04:23:24.003108Z"
    }
   },
   "outputs": [],
   "source": [
    "import numpy as np\n",
    "import scipy.spatial \n",
    "import matplotlib.pyplot as plt\n",
    "import sklearn as skl"
   ]
  },
  {
   "cell_type": "markdown",
   "id": "09d4ae3f",
   "metadata": {},
   "source": [
    "# Preprocess the data set"
   ]
  },
  {
   "cell_type": "code",
   "execution_count": 4,
   "id": "58523dc6",
   "metadata": {
    "ExecuteTime": {
     "end_time": "2022-03-08T04:23:26.076697Z",
     "start_time": "2022-03-08T04:23:26.066374Z"
    }
   },
   "outputs": [],
   "source": [
    "data = open('house-votes-84.data', 'r')\n",
    "lines = data.readlines()\n",
    "\n",
    "row = len(lines)\n",
    "col = len(lines[0][:len(lines[0])-1].split(\",\")) # -1 to get rid of \\n\n",
    "\n",
    "X = np.zeros((row,col))\n",
    "y = np.ones((row,1))\n",
    "\n",
    "for i in range(row):\n",
    "    l = lines[i][:len(lines[i])-1].split(\",\")\n",
    "    if l[0] == \"democrat\":\n",
    "        y[i] = -1   \n",
    "    for j in range(1,len(l)):\n",
    "        if l[j] == \"y\":\n",
    "            X[i][j] = 1\n",
    "        elif l[j] == \"n\":\n",
    "            X[i][j] = -1\n",
    "\n",
    "X = X[:,1:] # drop 1st column\n",
    "\n",
    "# reorder the data based on group, sth strong happens\n",
    "#data = np.hstack((y,X))\n",
    "#data = data[np.argsort(data[:,0],kind = \"heapsort\")]\n",
    "#y = data[:,0]\n",
    "#X = data[:,1:]"
   ]
  },
  {
   "cell_type": "markdown",
   "id": "4cfb2ead",
   "metadata": {},
   "source": [
    "# Spectral Clustering"
   ]
  },
  {
   "cell_type": "code",
   "execution_count": 29,
   "id": "dfb71a56",
   "metadata": {
    "ExecuteTime": {
     "end_time": "2022-03-08T04:50:05.117097Z",
     "start_time": "2022-03-08T04:50:05.114447Z"
    }
   },
   "outputs": [],
   "source": [
    "def eta(tt, rr):\n",
    "    val = np.exp( - (tt**2)/(2*rr**2) ) \n",
    "    return val.astype(float) "
   ]
  },
  {
   "cell_type": "code",
   "execution_count": 30,
   "id": "3b1918d2",
   "metadata": {
    "ExecuteTime": {
     "end_time": "2022-03-08T04:50:09.037258Z",
     "start_time": "2022-03-08T04:50:06.900768Z"
    }
   },
   "outputs": [],
   "source": [
    "r_space = np.linspace(0,4,101)\n",
    "dist = scipy.spatial.distance_matrix( X, X, p =2)\n",
    "acc = []\n",
    "accn = []\n",
    "\n",
    "for r in r_space[1:101]:\n",
    "    W = eta(dist, r)\n",
    "    d = np.sum(W, axis=1)\n",
    "    D = np.diag(d)\n",
    "    Ds = np.diag(1/np.sqrt(d))\n",
    "    \n",
    "    # compute graph Laplacian matrix\n",
    "    L = D - W # unnormalized\n",
    "    Ln = np.dot(Ds, np.dot((D - W),Ds)) # normalized\n",
    "    \n",
    "    # eigen decomposition for both\n",
    "    ll, VV = np.linalg.eigh(L)\n",
    "    idx = ll.argsort()\n",
    "    l = ll[idx]\n",
    "    V = VV[:, idx]\n",
    "\n",
    "    lln, VVn = np.linalg.eigh(Ln)\n",
    "    idxn = lln.argsort()\n",
    "    ln = lln[idxn]\n",
    "    Vn = VVn[:, idxn]\n",
    "    \n",
    "    # calculate accuracy\n",
    "    c1 = np.sign(V[:,1]).reshape(y.shape)\n",
    "    acc.append(max(np.sum(c1 == y),np.sum(c1!=y))/435)\n",
    "    \n",
    "    c2 = np.sign(Vn[:,1]).reshape(y.shape)\n",
    "    accn.append(max(np.sum(c2 == y),np.sum(c2!=y))/435)"
   ]
  },
  {
   "cell_type": "code",
   "execution_count": 31,
   "id": "85a7feea",
   "metadata": {
    "ExecuteTime": {
     "end_time": "2022-03-08T04:50:11.405288Z",
     "start_time": "2022-03-08T04:50:11.142993Z"
    }
   },
   "outputs": [
    {
     "data": {
      "image/png": "[encoded data removed]",
      "text/plain": [
       "<Figure size 576x288 with 2 Axes>"
      ]
     },
     "metadata": {
      "needs_background": "light"
     },
     "output_type": "display_data"
    }
   ],
   "source": [
    "fig, ax = plt.subplots(1,2, figsize=(8,4))\n",
    "\n",
    "ax[0].plot(r_space[1:101],acc,\"-ok\")\n",
    "ax[0].set_title('Unnormalized Graph Laplacian')\n",
    "ax[0].set_xlabel('$\\sigma$')\n",
    "ax[0].set_ylabel('accuracy')\n",
    "ax[0].set_ylim(0.45,1)\n",
    "\n",
    "\n",
    "ax[1].plot(r_space[1:101],accn,\"-ok\")\n",
    "ax[1].set_title('Normalized Graph Laplacian')\n",
    "ax[1].set_xlabel('$\\sigma$')\n",
    "ax[1].set_ylabel('accuracy')\n",
    "ax[1].set_ylim(0.45,1)\n",
    "\n",
    "fig.tight_layout()"
   ]
  },
  {
   "cell_type": "code",
   "execution_count": 32,
   "id": "8b31f360",
   "metadata": {
    "ExecuteTime": {
     "end_time": "2022-03-08T04:50:13.651825Z",
     "start_time": "2022-03-08T04:50:13.648407Z"
    }
   },
   "outputs": [
    {
     "name": "stdout",
     "output_type": "stream",
     "text": [
      "optimal sigma for unnormalized graph is 1.16\n",
      "optimal sigma for normalized graph is  1.08\n"
     ]
    }
   ],
   "source": [
    "print(\"optimal sigma for unnormalized graph is\",r_space[acc.index(np.max(acc))+1])\n",
    "print(\"optimal sigma for normalized graph is \",r_space[accn.index(np.max(accn))+1])"
   ]
  },
  {
   "cell_type": "code",
   "execution_count": 33,
   "id": "90d29f32",
   "metadata": {
    "ExecuteTime": {
     "end_time": "2022-03-08T04:50:15.724571Z",
     "start_time": "2022-03-08T04:50:15.720184Z"
    }
   },
   "outputs": [
    {
     "data": {
      "text/plain": [
       "array([1.16, 1.48, 2.12, 2.16, 2.2 , 2.24, 2.28, 2.32, 2.36, 2.4 , 3.32,\n",
       "       3.36, 3.4 , 3.44, 3.48, 3.52, 3.56, 3.6 , 3.64, 3.68, 3.72, 3.76,\n",
       "       3.8 , 3.84, 3.88, 3.92, 3.96, 4.  ])"
      ]
     },
     "execution_count": 33,
     "metadata": {},
     "output_type": "execute_result"
    }
   ],
   "source": [
    "r_space[np.array(np.where(acc == np.max(acc))[0])+1]"
   ]
  },
  {
   "cell_type": "markdown",
   "id": "38a655e1",
   "metadata": {},
   "source": [
    "# Semi-supervised Learning"
   ]
  },
  {
   "cell_type": "code",
   "execution_count": 10,
   "id": "e5344214",
   "metadata": {
    "ExecuteTime": {
     "end_time": "2022-03-08T04:25:18.701541Z",
     "start_time": "2022-03-08T04:25:17.603513Z"
    }
   },
   "outputs": [
    {
     "data": {
      "text/plain": [
       "array([[0.88965517, 0.88965517, 0.83908046, 0.86666667, 0.89195402],\n",
       "       [0.88735632, 0.82068966, 0.85747126, 0.75402299, 0.72873563],\n",
       "       [0.88275862, 0.82298851, 0.86436782, 0.84137931, 0.87586207],\n",
       "       [0.88045977, 0.83908046, 0.87586207, 0.87816092, 0.86436782]])"
      ]
     },
     "execution_count": 10,
     "metadata": {},
     "output_type": "execute_result"
    }
   ],
   "source": [
    "accList = []\n",
    "r = r_space[acc.index(np.max(acc))+1]\n",
    "\n",
    "for M in [5,10,20,40]:\n",
    "    Y = y[0:M]\n",
    "    for K in [2,3,4,5,6]:\n",
    "        dist = scipy.spatial.distance_matrix( X, X, p =2)\n",
    "\n",
    "        W = eta( dist, r)\n",
    "\n",
    "        d = np.sum(W, axis=1) \n",
    "\n",
    "        D = np.diag(d)\n",
    "\n",
    "        L = D - W \n",
    "\n",
    "        ll, VV = np.linalg.eigh(L)\n",
    "\n",
    "        idx = ll.argsort()\n",
    "        l = ll[idx]\n",
    "        V = VV[:, idx]\n",
    "\n",
    "        Vp = V[0:M, 0:K]\n",
    "\n",
    "        from sklearn.linear_model import Ridge\n",
    "\n",
    "        SSLRidge = Ridge(alpha = 1e-8, fit_intercept=False)\n",
    "\n",
    "        SSLRidge.fit(Vp, Y)\n",
    "\n",
    "        c_hat = SSLRidge.coef_.reshape((-1,1))\n",
    "\n",
    "        Y_pred =  np.dot(V[:, 0:K], c_hat)\n",
    "\n",
    "        c=np.sign(Y_pred)\n",
    "        accList.append(np.sum(c == y)/435)\n",
    "        \n",
    "        \n",
    "np.reshape(accList,(4,5)) # row for M data subsets, col for # of eigenvalues"
   ]
  }
 ],
 "metadata": {
  "kernelspec": {
   "display_name": "Python 3",
   "language": "python",
   "name": "python3"
  },
  "language_info": {
   "codemirror_mode": {
    "name": "ipython",
    "version": 3
   },
   "file_extension": ".py",
   "mimetype": "text/x-python",
   "name": "python",
   "nbconvert_exporter": "python",
   "pygments_lexer": "ipython3",
   "version": "3.8.8"
  },
  "latex_envs": {
   "LaTeX_envs_menu_present": true,
   "autoclose": false,
   "autocomplete": true,
   "bibliofile": "biblio.bib",
   "cite_by": "apalike",
   "current_citInitial": 1,
   "eqLabelWithNumbers": true,
   "eqNumInitial": 1,
   "hotkeys": {
    "equation": "Ctrl-E",
    "itemize": "Ctrl-I"
   },
   "labels_anchors": false,
   "latex_user_defs": false,
   "report_style_numbering": false,
   "user_envs_cfg": false
  },
  "toc": {
   "base_numbering": 1,
   "nav_menu": {},
   "number_sections": true,
   "sideBar": true,
   "skip_h1_title": false,
   "title_cell": "Table of Contents",
   "title_sidebar": "Contents",
   "toc_cell": false,
   "toc_position": {},
   "toc_section_display": true,
   "toc_window_display": false
  },
  "varInspector": {
   "cols": {
    "lenName": 16,
    "lenType": 16,
    "lenVar": 40
   },
   "kernels_config": {
    "python": {
     "delete_cmd_postfix": "",
     "delete_cmd_prefix": "del ",
     "library": "var_list.py",
     "varRefreshCmd": "print(var_dic_list())"
    },
    "r": {
     "delete_cmd_postfix": ") ",
     "delete_cmd_prefix": "rm(",
     "library": "var_list.r",
     "varRefreshCmd": "cat(var_dic_list()) "
    }
   },
   "types_to_exclude": [
    "module",
    "function",
    "builtin_function_or_method",
    "instance",
    "_Feature"
   ],
   "window_display": false
  }
 },
 "nbformat": 4,
 "nbformat_minor": 5
}
